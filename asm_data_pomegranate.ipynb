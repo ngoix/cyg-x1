{
 "cells": [
  {
   "cell_type": "code",
   "execution_count": null,
   "metadata": {
    "collapsed": true
   },
   "outputs": [],
   "source": [
    "import numpy as np\n",
    "import pandas as pd\n",
    "import sys\n",
    "sys.path.insert(20, '/home/nicolas/anaconda2/lib/python2.7/site-packages')\n",
    "import datashader as ds\n",
    "import datashader.transfer_functions as tf\n",
    "\n",
    "data = pd.read_csv(\"./asm_data_for_ml.txt\", sep='\\t')\n",
    "data_plot = pd.DataFrame({'x':data['rateC'] / data['rateA'], 'y':data['rate']})\n",
    "data['rateCA'] = data.rateC / data.rateA\n",
    "data['rateCB'] = data.rateC / data.rateB\n",
    "data['rateBA'] = data.rateB / data.rateA"
   ]
  },
  {
   "cell_type": "code",
   "execution_count": null,
   "metadata": {
    "collapsed": false
   },
   "outputs": [],
   "source": [
    "from pomegranate import GeneralMixtureModel\n",
    "from pomegranate import NormalDistribution\n",
    "%pylab inline\n",
    "\n",
    "\n",
    "X = np.c_[data.orbit, data.rateA, data.rateB, data.rateC, data.rate, data.rateCA]\n",
    "\n",
    "gmm = GeneralMixtureModel(NormalDistribution, n_components=3)\n",
    "#gmm = GeneralMixtureModel([NormalDistribution(5, 2), NormalDistribution(1, 2)])\n",
    "gmm.fit(X)\n",
    "preds = gmm.predict(X)\n",
    "probs = gmm.predict_proba(X)\n",
    "print 'probs=', probs\n",
    "\n",
    "data['preds'] = pd.Series(preds).astype(\"category\")\n",
    "color_key = ['red', 'blue', 'yellow']\n",
    "\n",
    "cvs = ds.Canvas(plot_height=300, plot_width=900, x_range=[0, 5], y_range=[0, 200])\n",
    "\n",
    "agg = cvs.points(data, 'rateCA', 'rate', ds.count_cat('preds'))\n",
    "\n",
    "tf.colorize(agg, color_key)\n"
   ]
  },
  {
   "cell_type": "code",
   "execution_count": null,
   "metadata": {
    "collapsed": false
   },
   "outputs": [],
   "source": [
    "# Hmm with 3 components:\n",
    "\n",
    "# looks better with data.rateCA in X\n",
    "# looks like 3 is better than 4 components\n",
    "\n",
    "from pomegranate import HiddenMarkovModel\n",
    "\n",
    "X = np.c_[data.orbit, data.rateA, data.rateB, data.rateC, data.rate, data.rateCA]\n",
    "\n",
    "clf = HiddenMarkovModel()"
   ]
  },
  {
   "cell_type": "code",
   "execution_count": null,
   "metadata": {
    "collapsed": false
   },
   "outputs": [],
   "source": [
    "clf.fit(X)"
   ]
  },
  {
   "cell_type": "code",
   "execution_count": null,
   "metadata": {
    "collapsed": true
   },
   "outputs": [],
   "source": [
    "XXX\n",
    "\n",
    "preds = clf.predict(X)\n",
    "probs = clf.predict_proba(X)\n",
    "\n",
    "print clf.score(X)\n",
    "\n",
    "color_key = ['red', 'green', 'blue', 'yellow']\n",
    "\n",
    "data['preds'] = pd.Series(preds).astype(\"category\")\n",
    "\n",
    "cvs = ds.Canvas(plot_height=300, plot_width=900, x_range=[0, 5], y_range=[0, 200])\n",
    "agg = cvs.points(data, 'rateCA', 'rate', ds.count_cat('preds'))\n",
    "\n",
    "tf.colorize(agg, color_key)"
   ]
  }
 ],
 "metadata": {
  "kernelspec": {
   "display_name": "Python 2",
   "language": "python",
   "name": "python2"
  },
  "language_info": {
   "codemirror_mode": {
    "name": "ipython",
    "version": 2
   },
   "file_extension": ".py",
   "mimetype": "text/x-python",
   "name": "python",
   "nbconvert_exporter": "python",
   "pygments_lexer": "ipython2",
   "version": "2.7.9"
  }
 },
 "nbformat": 4,
 "nbformat_minor": 0
}
