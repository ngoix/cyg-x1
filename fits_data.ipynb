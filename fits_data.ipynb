{
 "cells": [
  {
   "cell_type": "code",
   "execution_count": 1,
   "metadata": {
    "collapsed": false
   },
   "outputs": [],
   "source": [
    "import pyfits\n",
    "import numpy as np\n",
    "import pandas as pd\n",
    "hdulist = pyfits.open('all_data_for_ml.fits')"
   ]
  },
  {
   "cell_type": "code",
   "execution_count": 2,
   "metadata": {
    "collapsed": false
   },
   "outputs": [
    {
     "name": "stdout",
     "output_type": "stream",
     "text": [
      "2\n"
     ]
    },
    {
     "data": {
      "text/plain": [
       "<bound method HDUList.info of [<pyfits.hdu.image.PrimaryHDU object at 0x7f118380b490>, <pyfits.hdu.table.BinTableHDU object at 0x7f118381e310>]>"
      ]
     },
     "execution_count": 2,
     "metadata": {},
     "output_type": "execute_result"
    }
   ],
   "source": [
    "print(len(hdulist))\n",
    "hdulist.info"
   ]
  },
  {
   "cell_type": "code",
   "execution_count": 3,
   "metadata": {
    "collapsed": false
   },
   "outputs": [
    {
     "data": {
      "text/plain": [
       "['XTENSION',\n",
       " 'BITPIX',\n",
       " 'NAXIS',\n",
       " 'NAXIS1',\n",
       " 'NAXIS2',\n",
       " 'PCOUNT',\n",
       " 'GCOUNT',\n",
       " 'TFIELDS',\n",
       " 'TTYPE1',\n",
       " 'TFORM1',\n",
       " 'TTYPE2',\n",
       " 'TFORM2',\n",
       " 'TTYPE3',\n",
       " 'TFORM3',\n",
       " 'TTYPE4',\n",
       " 'TFORM4',\n",
       " 'TTYPE5',\n",
       " 'TFORM5',\n",
       " 'TTYPE6',\n",
       " 'TFORM6',\n",
       " 'TTYPE7',\n",
       " 'TFORM7',\n",
       " 'TTYPE8',\n",
       " 'TFORM8',\n",
       " 'TTYPE9',\n",
       " 'TFORM9',\n",
       " 'TTYPE10',\n",
       " 'TFORM10',\n",
       " 'TTYPE11',\n",
       " 'TFORM11',\n",
       " 'TTYPE12',\n",
       " 'TFORM12',\n",
       " 'TTYPE13',\n",
       " 'TFORM13',\n",
       " 'TTYPE14',\n",
       " 'TFORM14',\n",
       " 'TTYPE15',\n",
       " 'TFORM15',\n",
       " 'TTYPE16',\n",
       " 'TFORM16',\n",
       " 'TTYPE17',\n",
       " 'TFORM17',\n",
       " 'TTYPE18',\n",
       " 'TFORM18',\n",
       " 'TTYPE19',\n",
       " 'TFORM19',\n",
       " 'TTYPE20',\n",
       " 'TFORM20',\n",
       " 'TTYPE21',\n",
       " 'TFORM21',\n",
       " 'EXTNAME',\n",
       " 'TDIM18',\n",
       " 'TDIM19',\n",
       " 'TDIM20',\n",
       " 'TDIM21']"
      ]
     },
     "execution_count": 3,
     "metadata": {},
     "output_type": "execute_result"
    }
   ],
   "source": [
    "hdulist[1].header.keys()"
   ]
  },
  {
   "cell_type": "code",
   "execution_count": 4,
   "metadata": {
    "collapsed": false
   },
   "outputs": [
    {
     "name": "stdout",
     "output_type": "stream",
     "text": [
      "[True, 16, 0, True, \"  FITS (Flexible Image Transport System) format is defined in 'Astronomy\", \"  and Astrophysics', volume 376, page 359; bibcode: 2001A&A...376..359H\"]\n",
      "['BINTABLE', 8, 2, 2641, 2741, 0, 1, 21, 'block', '17A', 'tstart', 'D', 'tstop', 'D', 'orbitalphase', 'D', 'smoothorbitalphase', 'D', 'gamma', 'D', 'nh', 'D', 'lag14', 'D', 'cof14', 'D', 'rms1', 'D', 'rms2', 'D', 'rms3', 'D', 'rms4', 'D', 'avg1', 'D', 'avg2', 'D', 'avg3', 'D', 'avg4', 'D', 'en_lo', '78D', 'en_hi', '78D', 'flux', '78D', 'flux_err', '78D', 'DATA', '(78)', '(78)', '(78)', '(78)']\n"
     ]
    }
   ],
   "source": [
    "print hdulist[0].header.values()\n",
    "print hdulist[1].header.values()"
   ]
  },
  {
   "cell_type": "code",
   "execution_count": 5,
   "metadata": {
    "collapsed": false,
    "scrolled": true
   },
   "outputs": [
    {
     "data": {
      "text/plain": [
       "ColDefs(\n",
       "    name = 'block'; format = '17A'\n",
       "    name = 'tstart'; format = 'D'\n",
       "    name = 'tstop'; format = 'D'\n",
       "    name = 'orbitalphase'; format = 'D'\n",
       "    name = 'smoothorbitalphase'; format = 'D'\n",
       "    name = 'gamma'; format = 'D'\n",
       "    name = 'nh'; format = 'D'\n",
       "    name = 'lag14'; format = 'D'\n",
       "    name = 'cof14'; format = 'D'\n",
       "    name = 'rms1'; format = 'D'\n",
       "    name = 'rms2'; format = 'D'\n",
       "    name = 'rms3'; format = 'D'\n",
       "    name = 'rms4'; format = 'D'\n",
       "    name = 'avg1'; format = 'D'\n",
       "    name = 'avg2'; format = 'D'\n",
       "    name = 'avg3'; format = 'D'\n",
       "    name = 'avg4'; format = 'D'\n",
       "    name = 'en_lo'; format = '78D'; dim = '(78)'\n",
       "    name = 'en_hi'; format = '78D'; dim = '(78)'\n",
       "    name = 'flux'; format = '78D'; dim = '(78)'\n",
       "    name = 'flux_err'; format = '78D'; dim = '(78)'\n",
       ")"
      ]
     },
     "execution_count": 5,
     "metadata": {},
     "output_type": "execute_result"
    }
   ],
   "source": [
    "data = hdulist[1].data\n",
    "data.columns"
   ]
  },
  {
   "cell_type": "code",
   "execution_count": 38,
   "metadata": {
    "collapsed": false
   },
   "outputs": [
    {
     "name": "stdout",
     "output_type": "stream",
     "text": [
      "[           nan            nan            nan ...,  2092.41677378\n",
      "   492.66770833   470.08479899]\n",
      "\n",
      "\n",
      "[        nan         nan         nan ...,  0.18407161  0.16724467\n",
      "  0.15955463]\n",
      "\n",
      "\n",
      "[[  2.67690277   2.94231963   3.20789623 ...,  31.75936127  32.32780075\n",
      "   32.89702225]\n",
      " [  2.67690277   2.94231963   3.20789623 ...,  31.75936127  32.32780075\n",
      "   32.89702225]\n",
      " [  2.67668176   2.94208288   3.20764375 ...,  31.75730705  32.3257103\n",
      "   32.89489746]\n",
      " ..., \n",
      " [  2.84495163   3.24344397   3.64251471 ...,  46.0500946   46.90884018\n",
      "   47.76728058]\n",
      " [  2.8449192    3.24340677   3.6424737  ...,  46.04953384  46.9082756\n",
      "   47.76670456]\n",
      " [  2.8449192    3.24340677   3.6424737  ...,  46.04953384  46.9082756\n",
      "   47.76670456]]\n"
     ]
    }
   ],
   "source": [
    "%matplotlib notebook\n",
    "print(data.avg1) \n",
    "print('\\n')\n",
    "print(data.rms1)\n",
    "print('\\n')\n",
    "print(data.en_lo)"
   ]
  }
 ],
 "metadata": {
  "kernelspec": {
   "display_name": "Python 2",
   "language": "python",
   "name": "python2"
  },
  "language_info": {
   "codemirror_mode": {
    "name": "ipython",
    "version": 2
   },
   "file_extension": ".py",
   "mimetype": "text/x-python",
   "name": "python",
   "nbconvert_exporter": "python",
   "pygments_lexer": "ipython2",
   "version": "2.7.9"
  }
 },
 "nbformat": 4,
 "nbformat_minor": 0
}
