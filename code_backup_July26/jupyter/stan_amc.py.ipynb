{
 "cells": [
  {
   "cell_type": "code",
   "execution_count": null,
   "metadata": {
    "collapsed": true
   },
   "outputs": [],
   "source": [
    "from visualization_fct import *\n",
    "# from bokeh.plotting import output_file, show, save\n",
    "from bokeh.io import output_notebook\n",
    "output_notebook()\n",
    "from bokeh.plotting import show  # output_file, save\n",
    "\n",
    "from bokeh.resources import CDN\n",
    "from bokeh.embed import file_html\n",
    "\n",
    "from pystan import stan\n",
    "\n",
    "import matplotlib.pyplot as plt  # , mpld3\n",
    "\n",
    "without_CA = False\n",
    "\n",
    "data = pd.read_csv(\"../asm_data/asm_data_for_ml.txt\", sep='\\t')\n",
    "del data['MJD']\n",
    "# del data['error']\n",
    "# del data['errorA']\n",
    "# del data['errorB']\n",
    "# del data['errorC']\n",
    "data['rateCA'] = data.rateC / data.rateA\n",
    "data_thr = mask(data, 'orbit')  # rm too large values except for 'orbit'\n",
    "\n",
    "w = np.concatenate([np.array(data_thr[name]).reshape(-1, 1)\n",
    "                    for name in ['error', 'errorA', 'errorB', 'errorC']],\n",
    "                   axis=1)\n",
    "w = np.exp(-w.mean(axis=1))\n",
    "\n",
    "del data_thr['error']\n",
    "del data_thr['errorA']\n",
    "del data_thr['errorB']\n",
    "del data_thr['errorC']\n",
    "\n",
    "\n",
    "np.random.seed(0)\n",
    "\n",
    "if without_CA:\n",
    "    X = np.c_[data_thr.orbit, data_thr.rate, data_thr.rateA, data_thr.rateB,\n",
    "              data_thr.rateC]\n",
    "else:\n",
    "    X = np.c_[data_thr.orbit, data_thr.rate, data_thr.rateA, data_thr.rateB,\n",
    "              data_thr.rateC, data_thr.rateCA]\n",
    "\n",
    "gmm = GeneralMixtureModel(MultivariateGaussianDistribution, n_components=3)\n",
    "gmm.fit(X, weights=w)\n",
    "\n"
   ]
  },
  {
   "cell_type": "code",
   "execution_count": null,
   "metadata": {
    "collapsed": false
   },
   "outputs": [],
   "source": [
    "preds = gmm.predict(X)\n",
    "probs = gmm.predict_proba(X)\n",
    "\n",
    "data_thr['preds'] = pd.Series(preds).astype(\"category\")\n",
    "\n",
    "color_key = [\"red\", \"blue\", \"yellow\", \"grey\", \"black\", \"purple\", \"pink\",\n",
    "             \"brown\", \"green\", \"orange\"]  # Spectral9\n",
    "color_key = color_key[:len(set(preds))+1]\n",
    "\n",
    "covs = np.array([np.array(gmm.distributions[m].parameters[1])\n",
    "                 for m in range(len(gmm.distributions))])\n",
    "means = np.array([np.array(gmm.distributions[m].parameters[0])\n",
    "                  for m in range(len(gmm.distributions))])"
   ]
  },
  {
   "cell_type": "code",
   "execution_count": null,
   "metadata": {
    "collapsed": false
   },
   "outputs": [],
   "source": [
    "print w.shape\n",
    "print X.shape\n",
    "data['error'].reshape(-1, 1).shape"
   ]
  },
  {
   "cell_type": "code",
   "execution_count": null,
   "metadata": {
    "collapsed": false
   },
   "outputs": [],
   "source": [
    "# single plot rateCA vs rate with predicted classes and ellipses:\n",
    "if without_CA:\n",
    "    covs_xy = None\n",
    "    means_xy = None\n",
    "else:\n",
    "    x = 5\n",
    "    y = 1\n",
    "    covs_xy = [covs[j][[x, y]][:, [x, y]] for j in range(len(covs))]\n",
    "    means_xy = [means[j][[x, y]] for j in range(len(covs))]\n",
    "\n",
    "single_plot = bokeh_datashader_plot(data_thr, covs=covs_xy, means=means_xy,\n",
    "                                    x_name='rateCA',\n",
    "                                    y_name='rate',\n",
    "                                    plot_width=900, plot_height=300,\n",
    "                                    pixel_width=3000, pixel_height=1000,\n",
    "                                    spread=True, color_key=color_key)\n",
    "show(single_plot)"
   ]
  }
 ],
 "metadata": {
  "kernelspec": {
   "display_name": "Python [Root]",
   "language": "python",
   "name": "Python [Root]"
  },
  "language_info": {
   "codemirror_mode": {
    "name": "ipython",
    "version": 2
   },
   "file_extension": ".py",
   "mimetype": "text/x-python",
   "name": "python",
   "nbconvert_exporter": "python",
   "pygments_lexer": "ipython2",
   "version": "2.7.12"
  }
 },
 "nbformat": 4,
 "nbformat_minor": 0
}
