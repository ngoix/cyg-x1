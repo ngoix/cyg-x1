{
 "cells": [
  {
   "cell_type": "code",
   "execution_count": null,
   "metadata": {
    "collapsed": false
   },
   "outputs": [],
   "source": [
    "from visualization_fct import *\n",
    "from sklearn.mixture import GaussianMixture\n",
    "\n",
    "from bokeh.plotting import output_notebook, show\n",
    "\n",
    "%matplotlib notebook\n",
    "output_notebook()"
   ]
  },
  {
   "cell_type": "code",
   "execution_count": null,
   "metadata": {
    "collapsed": false
   },
   "outputs": [],
   "source": [
    "data = pd.read_csv(\"../asm_data/asm_data_for_ml.txt\", sep='\\t')\n",
    "del data['MJD']\n",
    "del data['error']\n",
    "del data['errorA']\n",
    "del data['errorB']\n",
    "del data['errorC']\n",
    "\n",
    "data['rateCA'] = data.rateC / data.rateA\n",
    "\n",
    "data_thr = mask(data, 'orbit')  # rm too large values except for 'orbit'"
   ]
  },
  {
   "cell_type": "code",
   "execution_count": null,
   "metadata": {
    "collapsed": false
   },
   "outputs": [],
   "source": [
    "from pomegranate import GeneralMixtureModel\n",
    "from pomegranate import NormalDistribution, MultivariateGaussianDistribution\n",
    "\n",
    "X = np.c_[data.orbit, data.rateA, data.rateB, data.rateC, data.rate, data.rateCA]\n",
    "\n",
    "gmm = GeneralMixtureModel(MultivariateGaussianDistribution, n_components=3)\n",
    "\n",
    "gmm.fit(X)\n",
    "preds = gmm.predict(X)\n",
    "probs = gmm.predict_proba(X)\n",
    "\n",
    "data_thr['preds'] = pd.Series(preds).astype(\"category\")"
   ]
  },
  {
   "cell_type": "code",
   "execution_count": null,
   "metadata": {
    "collapsed": false
   },
   "outputs": [],
   "source": [
    "l = gmm.distributions[0].parameters\n",
    "len(l)\n",
    "np.array(l[1])\n",
    "len(gmm.distributions)"
   ]
  },
  {
   "cell_type": "code",
   "execution_count": null,
   "metadata": {
    "collapsed": false
   },
   "outputs": [],
   "source": [
    "color_key = ['red', 'blue', 'yellow']\n",
    "p = scatter_matrix(data_thr, spread=False, color_key=color_key)\n",
    "show(p)"
   ]
  },
  {
   "cell_type": "code",
   "execution_count": null,
   "metadata": {
    "collapsed": true
   },
   "outputs": [],
   "source": [
    "fig = plot_probs_datashader(probs)\n",
    "show(fig)"
   ]
  },
  {
   "cell_type": "code",
   "execution_count": null,
   "metadata": {
    "collapsed": true
   },
   "outputs": [],
   "source": [
    "plot_probas(data_thr, probs, color_key=color_key)"
   ]
  },
  {
   "cell_type": "code",
   "execution_count": null,
   "metadata": {
    "collapsed": false
   },
   "outputs": [],
   "source": [
    "q = scatter_matrix_seaborn(data_thr)"
   ]
  }
 ],
 "metadata": {
  "kernelspec": {
   "display_name": "Python [Root]",
   "language": "python",
   "name": "Python [Root]"
  },
  "language_info": {
   "codemirror_mode": {
    "name": "ipython",
    "version": 2
   },
   "file_extension": ".py",
   "mimetype": "text/x-python",
   "name": "python",
   "nbconvert_exporter": "python",
   "pygments_lexer": "ipython2",
   "version": "2.7.12"
  }
 },
 "nbformat": 4,
 "nbformat_minor": 0
}
