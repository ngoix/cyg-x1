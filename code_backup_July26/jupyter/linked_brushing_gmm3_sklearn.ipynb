{
 "cells": [
  {
   "cell_type": "code",
   "execution_count": null,
   "metadata": {
    "collapsed": false
   },
   "outputs": [],
   "source": [
    "from visualization_fct import *\n",
    "# from bokeh.plotting import output_file, show, save\n",
    "\n",
    "from bokeh.resources import CDN\n",
    "from bokeh.embed import file_html\n",
    "from bokeh.plotting import show, output_notebook\n",
    "\n",
    "from sklearn.mixture import GaussianMixture\n",
    "\n",
    "import matplotlib.pyplot as plt  # , mpld3\n",
    "\n",
    "without_CA = True\n",
    "\n",
    "data = pd.read_csv(\"../asm_data/asm_data_for_ml.txt\", sep='\\t')\n",
    "del data['MJD']\n",
    "del data['error']\n",
    "del data['errorA']\n",
    "del data['errorB']\n",
    "del data['errorC']\n",
    "data['rateCA'] = data.rateC / data.rateA\n",
    "data_thr = mask(data, 'orbit')  # rm too large values except for 'orbit'\n",
    "\n",
    "np.random.seed(0)\n",
    "\n",
    "if without_CA:\n",
    "    X = np.c_[data_thr.orbit, data_thr.rate, data_thr.rateA, data_thr.rateB,\n",
    "              data_thr.rateC]\n",
    "else:\n",
    "    X = np.c_[data_thr.orbit, data_thr.rate, data_thr.rateA, data_thr.rateB,\n",
    "              data_thr.rateC, data_thr.rateCA]\n",
    "\n",
    "gmm = GaussianMixture(n_components=3, n_init=5).fit(X)\n",
    "preds = gmm.predict(X)\n",
    "probs = gmm.predict_proba(X)\n",
    "\n",
    "data_thr['preds'] = pd.Series(preds).astype(\"category\")\n",
    "data_probs = data_thr.copy()\n",
    "for j in range(probs.shape[1]):\n",
    "    data_probs['probs'+str(j)] = pd.Series(probs[:, j])\n",
    "\n",
    "color_key = [\"red\", \"blue\", \"yellow\", \"grey\", \"black\", \"purple\", \"pink\",\n",
    "             \"brown\", \"green\", \"orange\"]  # Spectral9\n",
    "color_key = color_key[:len(set(preds))+1]\n",
    "\n",
    "covs = gmm.covariances_\n",
    "means = gmm.means_"
   ]
  },
  {
   "cell_type": "code",
   "execution_count": null,
   "metadata": {
    "collapsed": false
   },
   "outputs": [],
   "source": [
    "if not without_CA:\n",
    "    x = 5\n",
    "    y = 1\n",
    "    covs_xy = [covs[j][[x, y]][:, [x, y]] for j in range(len(covs))]\n",
    "    means_xy = [means[j][[x, y]] for j in range(len(covs))]\n",
    "else:\n",
    "    covs_xy = None\n",
    "    means_xy = None"
   ]
  },
  {
   "cell_type": "code",
   "execution_count": null,
   "metadata": {
    "collapsed": false
   },
   "outputs": [],
   "source": [
    "%matplotlib notebook\n",
    "output_notebook()"
   ]
  },
  {
   "cell_type": "code",
   "execution_count": null,
   "metadata": {
    "collapsed": false,
    "scrolled": true
   },
   "outputs": [],
   "source": [
    "#p = plot_probs_bokeh_linked_brushing(data_probs, covs=covs_xy, means=means_xy)\n",
    "#show(p)"
   ]
  },
  {
   "cell_type": "code",
   "execution_count": null,
   "metadata": {
    "collapsed": false
   },
   "outputs": [],
   "source": [
    "p = scatter_matrix(data_thr, spread=False, covs=covs, means=means,\n",
    "                   color_key=color_key)\n",
    "show(p)"
   ]
  },
  {
   "cell_type": "code",
   "execution_count": null,
   "metadata": {
    "collapsed": false
   },
   "outputs": [],
   "source": [
    "single_plot = bokeh_datashader_plot(data_thr, covs=covs_xy, means=means_xy,\n",
    "                                    x_name='rateCA',\n",
    "                                    y_name='rate',\n",
    "                                    plot_width=900, plot_height=300,\n",
    "                                    pixel_width=3000, pixel_height=1000,\n",
    "                                    spread=True, color_key=color_key)\n",
    "show(single_plot)"
   ]
  },
  {
   "cell_type": "code",
   "execution_count": null,
   "metadata": {
    "collapsed": false
   },
   "outputs": [],
   "source": [
    "## histogram rateCA:\n",
    "#p = Figure()\n",
    "#rateCA = np.array(data_thr['rateCA'])\n",
    "#hist, edges = np.histogram(rateCA, bins=100)\n",
    "#p.quad(top=hist, bottom=0, left=edges[:-1], right=edges[1:])\n",
    "#show(p)"
   ]
  }
 ],
 "metadata": {
  "kernelspec": {
   "display_name": "Python [Root]",
   "language": "python",
   "name": "Python [Root]"
  },
  "language_info": {
   "codemirror_mode": {
    "name": "ipython",
    "version": 2
   },
   "file_extension": ".py",
   "mimetype": "text/x-python",
   "name": "python",
   "nbconvert_exporter": "python",
   "pygments_lexer": "ipython2",
   "version": "2.7.12"
  }
 },
 "nbformat": 4,
 "nbformat_minor": 0
}
