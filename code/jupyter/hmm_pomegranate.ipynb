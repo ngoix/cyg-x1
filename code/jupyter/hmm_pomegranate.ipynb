{
 "cells": [
  {
   "cell_type": "code",
   "execution_count": null,
   "metadata": {
    "collapsed": false
   },
   "outputs": [],
   "source": [
    "from visualization_fct import *\n",
    "\n",
    "from pomegranate import HiddenMarkovModel\n",
    "from pomegranate import State, Distribution, MultivariateGaussianDistribution\n",
    "\n",
    "from bokeh.plotting import output_notebook, show\n",
    "\n",
    "%matplotlib notebook\n",
    "output_notebook()"
   ]
  },
  {
   "cell_type": "code",
   "execution_count": null,
   "metadata": {
    "collapsed": true
   },
   "outputs": [],
   "source": [
    "data = pd.read_csv(\"./asm_data_for_ml.txt\", sep='\\t')\n",
    "del data['MJD']\n",
    "del data['error']\n",
    "del data['errorA']\n",
    "del data['errorB']\n",
    "del data['errorC']\n",
    "\n",
    "data['rateCA'] = data.rateC / data.rateA\n",
    "\n",
    "data_thr = mask(data, 'orbit')  # rm too large values except for 'orbit'"
   ]
  },
  {
   "cell_type": "code",
   "execution_count": null,
   "metadata": {
    "collapsed": false
   },
   "outputs": [],
   "source": [
    "# Hmm with 3 components:\n",
    "np.random.seed(2)\n",
    "\n",
    "# looks better with data.rateCA in X\n",
    "# looks like 3 is better than 4 components\n",
    "\n",
    "from pomegranate import HiddenMarkovModel\n",
    "from pomegranate import State, Distribution\n",
    "\n",
    "#TODO kmeans\n",
    "\n",
    "X = np.c_[data.orbit, data.rateA, data.rateB, data.rateC, data.rate, data.rateCA]\n",
    "\n",
    "X_1 = X[:1000]\n",
    "X_2 = X[1000:2000]\n",
    "X_3 = X[2000:3000]\n",
    "a = MultivariateGaussianDistribution.from_samples(X_1)   \n",
    "b = MultivariateGaussianDistribution.from_samples(X_2)  \n",
    "c = MultivariateGaussianDistribution.from_samples(X_3)\n",
    "s1 = State(a, name=\"M1\" )\n",
    "s2 = State(b, name=\"M2\" )\n",
    "s3 = State(c, name=\"M3\" )\n",
    "\n",
    "hmm = HiddenMarkovModel()\n",
    "hmm.add_states(s1, s2, s3)\n",
    "hmm.add_transition( hmm.start, s1, 0.5 )\n",
    "hmm.add_transition( hmm.start, s3, 0.5 )\n",
    "hmm.add_transition( s1, s1, 0.8 )\n",
    "hmm.add_transition( s1, s2, 0.2 )\n",
    "hmm.add_transition( s2, s1, 0.5 )\n",
    "hmm.add_transition( s2, s3, 0.5 )\n",
    "hmm.add_transition( s3, s3, 0.8 )\n",
    "hmm.add_transition( s3, s2, 0.2 )\n",
    "hmm.bake()\n",
    "hmm.fit(X)\n",
    "preds = hmm.predict(X)\n",
    "probs = hmm.predict_proba(X)"
   ]
  },
  {
   "cell_type": "code",
   "execution_count": null,
   "metadata": {
    "collapsed": false
   },
   "outputs": [],
   "source": [
    "data_thr['preds'] = pd.Series(preds).astype(\"category\")\n",
    "color_key = ['red', 'blue', 'yellow']\n",
    "p = scatter_matrix(data_thr, spread=True, color_key=color_key)\n",
    "show(p)"
   ]
  },
  {
   "cell_type": "code",
   "execution_count": null,
   "metadata": {
    "collapsed": false
   },
   "outputs": [],
   "source": [
    "fig = plot_probs_datashader(probs)\n",
    "show(fig)"
   ]
  },
  {
   "cell_type": "code",
   "execution_count": null,
   "metadata": {
    "collapsed": false
   },
   "outputs": [],
   "source": [
    "q = scatter_matrix_seaborn(data_thr)"
   ]
  },
  {
   "cell_type": "code",
   "execution_count": null,
   "metadata": {
    "collapsed": false
   },
   "outputs": [],
   "source": [
    "plot_probas(data_thr, probs, color_key=color_key)"
   ]
  }
 ],
 "metadata": {
  "kernelspec": {
   "display_name": "Python [Root]",
   "language": "python",
   "name": "Python [Root]"
  },
  "language_info": {
   "codemirror_mode": {
    "name": "ipython",
    "version": 2
   },
   "file_extension": ".py",
   "mimetype": "text/x-python",
   "name": "python",
   "nbconvert_exporter": "python",
   "pygments_lexer": "ipython2",
   "version": "2.7.12"
  }
 },
 "nbformat": 4,
 "nbformat_minor": 0
}
