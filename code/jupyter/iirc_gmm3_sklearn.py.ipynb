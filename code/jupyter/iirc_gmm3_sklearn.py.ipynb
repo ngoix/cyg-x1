{
 "cells": [
  {
   "cell_type": "code",
   "execution_count": 1,
   "metadata": {
    "collapsed": false
   },
   "outputs": [
    {
     "data": {
      "text/plain": [
       "{0, 1, 2}"
      ]
     },
     "execution_count": 1,
     "metadata": {},
     "output_type": "execute_result"
    }
   ],
   "source": [
    "from visualization_fct import *\n",
    "from sklearn.mixture import GaussianMixture\n",
    "\n",
    "# from bokeh.plotting import output_file, show, save\n",
    "# from bokeh.mpl import to_bokeh\n",
    "\n",
    "from bokeh.resources import CDN\n",
    "from bokeh.embed import file_html\n",
    "\n",
    "import matplotlib.pyplot as plt  # , mpld3\n",
    "import pyfits\n",
    "\n",
    "\n",
    "# for now, no ratio in data (no rates A, B or C in this dataset)\n",
    "\n",
    "only_flux = True\n",
    "scale_data = True\n",
    "\n",
    "hdulist = pyfits.open('../iirc_data/all_data_for_ml.fits')\n",
    "data = hdulist[1].data\n",
    "\n",
    "X_flux, X, data_thr, data_fr_en = get_iirc_data(\n",
    "    data, only_flux=only_flux, scale_data=scale_data, thresholded=True)[:4]\n",
    "\n",
    "# GMM with 3 components: \n",
    "np.random.seed(0)\n",
    "\n",
    "gmm = GaussianMixture(n_components=3, n_init=50).fit(X)\n",
    "preds = gmm.predict(X)\n",
    "probs = gmm.predict_proba(X)\n",
    "\n",
    "data_thr['preds'] = pd.Series(preds).astype(\"category\")\n",
    "\n",
    "color_key = [\"red\", \"yellow\", \"blue\", \"grey\", \"black\", \"purple\", \"pink\",\n",
    "             \"brown\", \"green\", \"orange\"]  # Spectral9\n",
    "color_key = color_key[:len(set(preds))+1]\n",
    "\n",
    "covs = gmm.covariances_\n",
    "means = gmm.means_\n",
    "\n",
    "set(preds)"
   ]
  },
  {
   "cell_type": "code",
   "execution_count": null,
   "metadata": {
    "collapsed": false
   },
   "outputs": [],
   "source": [
    "probs"
   ]
  },
  {
   "cell_type": "code",
   "execution_count": null,
   "metadata": {
    "collapsed": false
   },
   "outputs": [],
   "source": [
    "from bokeh.plotting import figure, show\n",
    "from bokeh.io import output_notebook\n",
    "output_notebook()\n",
    "p = figure()\n",
    "hist, edges = np.histogram(data_thr['50'], bins=100)\n",
    "p.quad(top=hist, bottom=0, left=edges[:-1], right=edges[1:])\n",
    "show(p)"
   ]
  },
  {
   "cell_type": "code",
   "execution_count": null,
   "metadata": {
    "collapsed": false
   },
   "outputs": [],
   "source": [
    "args = np.argsort(data['tstart'].byteswap().newbyteorder())\n",
    "\n",
    "\n",
    "data_fr = pd.DataFrame(data['flux'].byteswap().newbyteorder()[args])\n",
    "# convert attributes to str:\n",
    "data_fr.columns = [str(j) for j in data_fr.columns]\n",
    "\n",
    "data_fr['tstart'] = data['tstart'].byteswap().newbyteorder()[args]\n",
    "\n",
    "# rm the rows with nan values:\n",
    "data_fr = data_fr.dropna()\n"
   ]
  },
  {
   "cell_type": "code",
   "execution_count": null,
   "metadata": {
    "collapsed": false,
    "scrolled": true
   },
   "outputs": [],
   "source": [
    "cvs = ds.Canvas(plot_height=300, plot_width=900, x_range=[data_fr['tstart'].min(), data_fr['tstart'].max()], y_range=[0, 5e-8])\n",
    "imgs = [tf.interpolate(cvs.line(data_fr, 'tstart', '0')),  #agg dans cvs.line\n",
    "        tf.interpolate(cvs.line(data_fr, 'tstart', '1'), cmap=['red']),\n",
    "        #tf.interpolate(cvs.line(data_fr, 'tstart', '50'), cmap=['black']),\n",
    "        tf.interpolate(cvs.line(data_fr, 'tstart', '30'), cmap=['green'])]\n",
    "tf.stack(*imgs)"
   ]
  },
  {
   "cell_type": "code",
   "execution_count": null,
   "metadata": {
    "collapsed": false
   },
   "outputs": [],
   "source": [
    "interactive_img_ds(data_thr, '1', '70', preds=False)"
   ]
  },
  {
   "cell_type": "code",
   "execution_count": null,
   "metadata": {
    "collapsed": true
   },
   "outputs": [],
   "source": []
  }
 ],
 "metadata": {
  "kernelspec": {
   "display_name": "Python [Root]",
   "language": "python",
   "name": "Python [Root]"
  },
  "language_info": {
   "codemirror_mode": {
    "name": "ipython",
    "version": 2
   },
   "file_extension": ".py",
   "mimetype": "text/x-python",
   "name": "python",
   "nbconvert_exporter": "python",
   "pygments_lexer": "ipython2",
   "version": "2.7.12"
  }
 },
 "nbformat": 4,
 "nbformat_minor": 0
}
