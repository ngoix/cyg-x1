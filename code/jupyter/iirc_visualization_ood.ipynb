{
 "cells": [
  {
   "cell_type": "code",
   "execution_count": 19,
   "metadata": {
    "collapsed": false
   },
   "outputs": [
    {
     "data": {
      "text/html": [
       "\n",
       "    <div class=\"bk-root\">\n",
       "        <a href=\"http://bokeh.pydata.org\" target=\"_blank\" class=\"bk-logo bk-logo-small bk-logo-notebook\"></a>\n",
       "        <span id=\"7e1802c6-25a4-4f96-b83d-b875c3d163f7\">Loading BokehJS ...</span>\n",
       "    </div>"
      ]
     },
     "metadata": {},
     "output_type": "display_data"
    },
    {
     "data": {
      "application/javascript": [
       "\n",
       "(function(global) {\n",
       "  function now() {\n",
       "    return new Date();\n",
       "  }\n",
       "\n",
       "  if (typeof (window._bokeh_onload_callbacks) === \"undefined\") {\n",
       "    window._bokeh_onload_callbacks = [];\n",
       "  }\n",
       "\n",
       "  function run_callbacks() {\n",
       "    window._bokeh_onload_callbacks.forEach(function(callback) { callback() });\n",
       "    delete window._bokeh_onload_callbacks\n",
       "    console.info(\"Bokeh: all callbacks have finished\");\n",
       "  }\n",
       "\n",
       "  function load_libs(js_urls, callback) {\n",
       "    window._bokeh_onload_callbacks.push(callback);\n",
       "    if (window._bokeh_is_loading > 0) {\n",
       "      console.log(\"Bokeh: BokehJS is being loaded, scheduling callback at\", now());\n",
       "      return null;\n",
       "    }\n",
       "    if (js_urls == null || js_urls.length === 0) {\n",
       "      run_callbacks();\n",
       "      return null;\n",
       "    }\n",
       "    console.log(\"Bokeh: BokehJS not loaded, scheduling load and callback at\", now());\n",
       "    window._bokeh_is_loading = js_urls.length;\n",
       "    for (var i = 0; i < js_urls.length; i++) {\n",
       "      var url = js_urls[i];\n",
       "      var s = document.createElement('script');\n",
       "      s.src = url;\n",
       "      s.async = false;\n",
       "      s.onreadystatechange = s.onload = function() {\n",
       "        window._bokeh_is_loading--;\n",
       "        if (window._bokeh_is_loading === 0) {\n",
       "          console.log(\"Bokeh: all BokehJS libraries loaded\");\n",
       "          run_callbacks()\n",
       "        }\n",
       "      };\n",
       "      s.onerror = function() {\n",
       "        console.warn(\"failed to load library \" + url);\n",
       "      };\n",
       "      console.log(\"Bokeh: injecting script tag for BokehJS library: \", url);\n",
       "      document.getElementsByTagName(\"head\")[0].appendChild(s);\n",
       "    }\n",
       "  };\n",
       "\n",
       "  var js_urls = ['https://cdn.pydata.org/bokeh/release/bokeh-0.12.0.min.js', 'https://cdn.pydata.org/bokeh/release/bokeh-widgets-0.12.0.min.js', 'https://cdn.pydata.org/bokeh/release/bokeh-compiler-0.12.0.min.js'];\n",
       "\n",
       "  var inline_js = [\n",
       "    function(Bokeh) {\n",
       "      Bokeh.set_log_level(\"info\");\n",
       "    },\n",
       "    \n",
       "    function(Bokeh) {\n",
       "      Bokeh.$(\"#7e1802c6-25a4-4f96-b83d-b875c3d163f7\").text(\"BokehJS successfully loaded\");\n",
       "    },\n",
       "    function(Bokeh) {\n",
       "      console.log(\"Bokeh: injecting CSS: https://cdn.pydata.org/bokeh/release/bokeh-0.12.0.min.css\");\n",
       "      Bokeh.embed.inject_css(\"https://cdn.pydata.org/bokeh/release/bokeh-0.12.0.min.css\");\n",
       "      console.log(\"Bokeh: injecting CSS: https://cdn.pydata.org/bokeh/release/bokeh-widgets-0.12.0.min.css\");\n",
       "      Bokeh.embed.inject_css(\"https://cdn.pydata.org/bokeh/release/bokeh-widgets-0.12.0.min.css\");\n",
       "    }\n",
       "  ];\n",
       "\n",
       "  function run_inline_js() {\n",
       "    for (var i = 0; i < inline_js.length; i++) {\n",
       "      inline_js[i](window.Bokeh);\n",
       "    }\n",
       "  }\n",
       "\n",
       "  if (window._bokeh_is_loading === 0) {\n",
       "    console.log(\"Bokeh: BokehJS loaded, going straight to plotting\");\n",
       "    run_inline_js();\n",
       "  } else {\n",
       "    load_libs(js_urls, function() {\n",
       "      console.log(\"Bokeh: BokehJS plotting callback run at\", now());\n",
       "      run_inline_js();\n",
       "    });\n",
       "  }\n",
       "}(this));"
      ]
     },
     "metadata": {},
     "output_type": "display_data"
    }
   ],
   "source": [
    "from visualization_fct import *\n",
    "from sklearn.discriminant_analysis import LinearDiscriminantAnalysis as LDA\n",
    "from sklearn.preprocessing import scale\n",
    "\n",
    "# from bokeh.plotting import output_file, show, save\n",
    "# from bokeh.mpl import to_bokeh\n",
    "\n",
    "from bokeh.resources import CDN\n",
    "from bokeh.embed import file_html\n",
    "from bokeh.plotting import output_notebook, show, output_file\n",
    "output_notebook()\n",
    "\n",
    "import matplotlib.pyplot as plt  # , mpld3\n",
    "import pyfits\n",
    "\n",
    "\n",
    "np.random.seed(0)\n",
    "\n",
    "# for now, no ratio in data (no rates A, B or C in this dataset)\n",
    "\n",
    "only_flux = True\n",
    "scale_flux = False\n",
    "\n",
    "hdulist = pyfits.open('../iirc_data/all_data_for_ml.fits')\n",
    "data = hdulist[1].data\n",
    "\n",
    "# we need to change the byte order for fits -> dataframe:\n",
    "if scale_flux:\n",
    "    data_fr = pd.DataFrame(scale(data['flux'].byteswap().newbyteorder()))\n",
    "else:\n",
    "    data_fr = pd.DataFrame(data['flux'].byteswap().newbyteorder())\n",
    "# convert attributes to str:\n",
    "data_fr.columns = [str(j) for j in data_fr.columns]\n",
    "\n",
    "\n",
    "if not only_flux:\n",
    "\n",
    "    names = [data.columns[j].name for j in range(len(data.columns))]\n",
    "\n",
    "    # rm str attribute:\n",
    "    names.remove('block')\n",
    "    names.remove('orbitalphase')\n",
    "    names.remove('smoothorbitalphase')\n",
    "\n",
    "    # for now, rm multidim attributes:\n",
    "    names.remove('en_lo')\n",
    "    names.remove('en_hi')\n",
    "    names.remove('flux')  # already in\n",
    "    names.remove('flux_err')  # error term\n",
    "\n",
    "    # also remove error terms, tstart and tstop:\n",
    "    #names.remove('rms1')\n",
    "    #names.remove('rms2')\n",
    "    #names.remove('rms3')\n",
    "    #names.remove('rms4')\n",
    "    names.remove('tstart')\n",
    "    names.remove('tstop')\n",
    "\n",
    "if only_flux:\n",
    "    names = ['gamma']  # add only the labels (labels derive from gamma)\n",
    "    \n",
    "# we need to change the byte order for fits -> dataframe:\n",
    "data_fr2 = pd.DataFrame({name: data[name].byteswap().newbyteorder()\n",
    "                         for name in names})\n",
    "\n",
    "data_fr = pd.concat([data_fr, data_fr2], axis=1)\n",
    "\n",
    "# rm the rows with nan values:\n",
    "data_fr = data_fr.dropna()\n",
    "\n",
    "# rm too large values except for 'orbit':\n",
    "if only_flux:\n",
    "    data_thr = mask(data_fr, ['gamma'])\n",
    "else:\n",
    "    data_thr = mask(data_fr, ['orbitalphase', 'smoothorbitalphase','gamma'])\n",
    "\n",
    "\n",
    "# labels from gamma as in the paper:\n",
    "a = np.array(data_thr['gamma'])\n",
    "y = (a > 2.5).astype('int') + (a > 2).astype('int')\n",
    "col_without_gamma = list(data_thr.columns)\n",
    "col_without_gamma.remove('gamma')\n",
    "\n",
    "X = np.concatenate([np.array(data_thr[name]).reshape(-1, 1) for name in col_without_gamma], axis=1)"
   ]
  },
  {
   "cell_type": "code",
   "execution_count": null,
   "metadata": {
    "collapsed": false
   },
   "outputs": [],
   "source": []
  },
  {
   "cell_type": "code",
   "execution_count": 20,
   "metadata": {
    "collapsed": false
   },
   "outputs": [
    {
     "name": "stdout",
     "output_type": "stream",
     "text": [
      "True\n"
     ]
    }
   ],
   "source": [
    "# make video / widget of showing spectra over time\n",
    "\n",
    "en = (data['en_lo'].byteswap().newbyteorder() + data['en_hi'].byteswap().newbyteorder()) / 2.\n",
    "\n",
    "data_fr_en = pd.DataFrame(en)\n",
    "\n",
    "# convert attributes to str:\n",
    "data_fr_en.columns = [str(j) for j in data_fr_en.columns]\n",
    "\n",
    "#rm nan:\n",
    "data_fr_en = data_fr_en.dropna()\n",
    "\n",
    "#check same axis shape than data_fr (ie nan correspond to same lines):\n",
    "print data_fr_en.shape[0] == data_fr.shape[0]\n",
    "\n",
    "En = np.concatenate([np.array(data_fr_en[name]).reshape(-1, 1) for name in data_fr_en.columns], axis=1)"
   ]
  },
  {
   "cell_type": "code",
   "execution_count": 25,
   "metadata": {
    "collapsed": false
   },
   "outputs": [
    {
     "data": {
      "text/plain": [
       "(2713, 78)"
      ]
     },
     "execution_count": 25,
     "metadata": {},
     "output_type": "execute_result"
    }
   ],
   "source": [
    "X.shape"
   ]
  },
  {
   "cell_type": "code",
   "execution_count": 24,
   "metadata": {
    "collapsed": false
   },
   "outputs": [],
   "source": [
    "import matplotlib.animation as animation\n",
    "\n",
    "#%matplotlib auto  #  'osx', 'qt4', 'qt5', 'gtk3', 'wx', 'qt', 'gtk', 'tk'\n",
    "\n",
    "fig, ax = plt.subplots()\n",
    "\n",
    "#line, = ax.plot(En[0, :], X[0, :])\n",
    "line, = ax.plot(range(X.shape[1]), X[0, :])\n",
    "\n",
    "def animate(i):\n",
    "    # line.set_xdata(En[i, :])  # update the data\n",
    "    line.set_ydata(X[i, :])   # update the data\n",
    "    return line,\n",
    "\n",
    "\n",
    "## Init only required for blitting to give a clean slate.\n",
    "#def init():\n",
    "#    line.set_ydata(np.ma.array(x, mask=True))\n",
    "#    return line,\n",
    "\n",
    "ani = animation.FuncAnimation(fig, animate, np.arange(1, 2000), #init_func=init,\n",
    "                              interval=250, blit=True)\n",
    "plt.show()\n",
    "\n",
    "\n",
    "#ani.save('spectra_over_time.mp4', writer = 'mencoder', fps=30, extra_args=['-vcodec', 'libx264'])"
   ]
  },
  {
   "cell_type": "code",
   "execution_count": 6,
   "metadata": {
    "collapsed": false
   },
   "outputs": [
    {
     "data": {
      "text/plain": [
       "array([0, 0, 0, ..., 2, 2, 2])"
      ]
     },
     "execution_count": 6,
     "metadata": {},
     "output_type": "execute_result"
    }
   ],
   "source": [
    "y"
   ]
  },
  {
   "cell_type": "code",
   "execution_count": 7,
   "metadata": {
    "collapsed": false
   },
   "outputs": [
    {
     "ename": "ValueError",
     "evalue": "operands could not be broadcast together with shapes (89,) (78,) ",
     "output_type": "error",
     "traceback": [
      "\u001b[1;31m---------------------------------------------------------------------------\u001b[0m",
      "\u001b[1;31mValueError\u001b[0m                                Traceback (most recent call last)",
      "\u001b[1;32m<ipython-input-7-6e2907dbf076>\u001b[0m in \u001b[0;36m<module>\u001b[1;34m()\u001b[0m\n\u001b[0;32m      5\u001b[0m \u001b[1;31m#plt.axes(xlim=(0, 1e-6), ylim=(0, 80))\u001b[0m\u001b[1;33m\u001b[0m\u001b[1;33m\u001b[0m\u001b[0m\n\u001b[0;32m      6\u001b[0m \u001b[1;33m\u001b[0m\u001b[0m\n\u001b[1;32m----> 7\u001b[1;33m \u001b[0mline\u001b[0m\u001b[1;33m,\u001b[0m \u001b[1;33m=\u001b[0m \u001b[0max\u001b[0m\u001b[1;33m.\u001b[0m\u001b[0mplot\u001b[0m\u001b[1;33m(\u001b[0m\u001b[0mEn\u001b[0m\u001b[1;33m[\u001b[0m\u001b[1;36m0\u001b[0m\u001b[1;33m,\u001b[0m \u001b[1;33m:\u001b[0m\u001b[1;33m]\u001b[0m\u001b[1;33m,\u001b[0m \u001b[0mX\u001b[0m\u001b[1;33m[\u001b[0m\u001b[1;36m0\u001b[0m\u001b[1;33m,\u001b[0m \u001b[1;33m:\u001b[0m\u001b[1;33m]\u001b[0m \u001b[1;33m*\u001b[0m \u001b[0mEn\u001b[0m\u001b[1;33m[\u001b[0m\u001b[1;36m0\u001b[0m\u001b[1;33m,\u001b[0m \u001b[1;33m:\u001b[0m\u001b[1;33m]\u001b[0m\u001b[1;33m)\u001b[0m\u001b[1;33m\u001b[0m\u001b[0m\n\u001b[0m\u001b[0;32m      8\u001b[0m \u001b[1;31m#line, = ax.plot(range(X.shape[1]), X[0, :] * En[0, :])\u001b[0m\u001b[1;33m\u001b[0m\u001b[1;33m\u001b[0m\u001b[0m\n\u001b[0;32m      9\u001b[0m \u001b[1;33m\u001b[0m\u001b[0m\n",
      "\u001b[1;31mValueError\u001b[0m: operands could not be broadcast together with shapes (89,) (78,) "
     ]
    }
   ],
   "source": [
    "# visualize datapoints by plotting spectrum multiplied by energy (en_hi + en_lo)/2\n",
    "colors = ['red', 'blue', 'yellow']\n",
    "\n",
    "fig, ax = plt.subplots()\n",
    "#plt.axes(xlim=(0, 1e-6), ylim=(0, 80))\n",
    "\n",
    "line, = ax.plot(En[0, :], X[0, :] * En[0, :])\n",
    "#line, = ax.plot(range(X.shape[1]), X[0, :] * En[0, :])\n",
    "\n",
    "def animate(i):\n",
    "    line.set_xdata(En[i, :])  # update the data\n",
    "    line.set_ydata(X[i, :] * En[i, :])   # update the data\n",
    "    line.set_color(colors[y[i]])\n",
    "    return line,\n",
    "\n",
    "\n",
    "# Init only required for blitting to give a clean slate.\n",
    "def init():\n",
    "    line.set_xdata(En[0, :])\n",
    "    line.set_ydata(X[0, :] * En[0, :])\n",
    "    line.set_color(colors[y[0]])\n",
    "    return line,\n",
    "\n",
    "ani = animation.FuncAnimation(fig, animate, np.arange(1, 2000), init_func=init,\n",
    "                              interval=25, blit=True)\n",
    "plt.show()"
   ]
  },
  {
   "cell_type": "code",
   "execution_count": null,
   "metadata": {
    "collapsed": false
   },
   "outputs": [],
   "source": [
    "lda = LDA(n_components=2).fit(X, y)\n",
    "preds = lda.predict(X)\n",
    "X_lda = lda.transform(X)\n",
    "X_lda"
   ]
  },
  {
   "cell_type": "code",
   "execution_count": null,
   "metadata": {
    "collapsed": false
   },
   "outputs": [],
   "source": [
    "%matplotlib inline\n",
    "clr = np.array(['blue', 'red', 'yellow'])\n",
    "for j in range(3):\n",
    "    plt.plot(X_lda[:, 0][y==j], X_lda[:, 1][y==j], '.')\n",
    "plt.show()"
   ]
  },
  {
   "cell_type": "code",
   "execution_count": null,
   "metadata": {
    "collapsed": false,
    "scrolled": true
   },
   "outputs": [],
   "source": [
    "for j in range(3):\n",
    "    plt.plot(X_lda[:, 0][preds==j], X_lda[:, 1][preds==j], '.')\n",
    "plt.show()"
   ]
  },
  {
   "cell_type": "code",
   "execution_count": null,
   "metadata": {
    "collapsed": false
   },
   "outputs": [],
   "source": [
    "lda.explained_variance_ratio_"
   ]
  },
  {
   "cell_type": "code",
   "execution_count": null,
   "metadata": {
    "collapsed": false
   },
   "outputs": [],
   "source": [
    "plt.plot(lda.means_.T)\n",
    "plt.show()"
   ]
  },
  {
   "cell_type": "code",
   "execution_count": null,
   "metadata": {
    "collapsed": false
   },
   "outputs": [],
   "source": [
    "plt.plot(lda.scalings_)\n",
    "plt.show()"
   ]
  },
  {
   "cell_type": "code",
   "execution_count": null,
   "metadata": {
    "collapsed": false
   },
   "outputs": [],
   "source": [
    "from sklearn.decomposition import PCA\n",
    "pca = PCA(n_components=2)\n",
    "X_pca = pca.fit(X).transform(X)\n",
    "%matplotlib notebook\n",
    "plt.figure()\n",
    "for j in range(3):\n",
    "    plt.plot(X_pca[:, 0][y==j], X_pca[:, 1][y==j], '.')\n",
    "plt.show()"
   ]
  },
  {
   "cell_type": "code",
   "execution_count": null,
   "metadata": {
    "collapsed": false
   },
   "outputs": [],
   "source": [
    "pca.explained_variance_ratio_"
   ]
  },
  {
   "cell_type": "code",
   "execution_count": null,
   "metadata": {
    "collapsed": false
   },
   "outputs": [],
   "source": [
    "from sklearn.decomposition import PCA\n",
    "pca = PCA(n_components=None)\n",
    "X_pca = pca.fit(X).transform(X)\n",
    "plt.figure()\n",
    "print('pca.explained_variance_ratio_', pca.explained_variance_ratio_)\n",
    "#df = pd.DataFrame(X_pca, columns=['1','2','3'])\n",
    "#df['y'] = pd.Series(y).astype(\"category\")\n",
    "#scatter_matrix_seaborn(df, y='y', size=3)\n",
    "plt.semilogy(pca.explained_variance_ratio_)\n",
    "plt.show()"
   ]
  },
  {
   "cell_type": "code",
   "execution_count": null,
   "metadata": {
    "collapsed": true
   },
   "outputs": [],
   "source": []
  },
  {
   "cell_type": "code",
   "execution_count": null,
   "metadata": {
    "collapsed": false,
    "scrolled": true
   },
   "outputs": [],
   "source": [
    "#pca.components_\n",
    "plt.figure()\n",
    "plt.plot(pca.components_[:4].T)\n",
    "plt.show()"
   ]
  },
  {
   "cell_type": "code",
   "execution_count": null,
   "metadata": {
    "collapsed": false
   },
   "outputs": [],
   "source": [
    "#nmf:\n",
    "\n",
    "from sklearn.decomposition import NMF\n",
    "Xpos = X - X.min(axis=0)\n",
    "model = NMF(n_components=2, init='random', random_state=0)\n",
    "model.fit(Xpos) \n",
    "X_nmf = model.transform(Xpos)\n",
    "for j in range(3):\n",
    "    plt.plot(X_nmf[:, 0][y==j], X_pca[:, 1][y==j], '.')\n",
    "plt.show()\n",
    "print 'model.reconstruction_err_', model.reconstruction_err_\n",
    "#print 'model.components_', model.components_"
   ]
  },
  {
   "cell_type": "code",
   "execution_count": null,
   "metadata": {
    "collapsed": false
   },
   "outputs": [],
   "source": [
    "model = NMF(n_components=2, init='random', random_state=0)\n",
    "%matplotlib notebook\n",
    "plt.figure()\n",
    "model.fit(Xpos)\n",
    "X_nmf = model.transform(Xpos)\n",
    "for j in range(3):\n",
    "    plt.plot(X_nmf[:, 0][preds==j], X_nmf[:, 1][preds==j], '.', c='k')\n",
    "plt.show()"
   ]
  },
  {
   "cell_type": "code",
   "execution_count": null,
   "metadata": {
    "collapsed": false
   },
   "outputs": [],
   "source": [
    "\n",
    "plt.figure()\n",
    "plt.plot(model.components_.T)\n",
    "plt.show()"
   ]
  },
  {
   "cell_type": "code",
   "execution_count": null,
   "metadata": {
    "collapsed": false
   },
   "outputs": [],
   "source": [
    "model = NMF(n_components=3, init='random', random_state=0)\n",
    "model.fit(Xpos)\n",
    "\n",
    "X_nmf = model.transform(Xpos)\n",
    "df = pd.DataFrame(X_nmf, columns=['1','2', '3'])\n",
    "df['y'] = pd.Series(y).astype(\"category\")\n",
    "scatter_matrix_seaborn(df, y='y', size=3)\n",
    "print 'model.reconstruction_err_', model.reconstruction_err_\n",
    "#print 'model.components_', model.components_"
   ]
  },
  {
   "cell_type": "code",
   "execution_count": null,
   "metadata": {
    "collapsed": false
   },
   "outputs": [],
   "source": [
    "model = NMF(n_components=4, init='random', random_state=0)\n",
    "model.fit(Xpos) \n",
    "X_nmf = model.transform(Xpos)\n",
    "df = pd.DataFrame(X_nmf, columns=['1','2', '3', '4'])\n",
    "df['y'] = pd.Series(y).astype(\"category\")\n",
    "scatter_matrix_seaborn(df, y='y', size=3)\n",
    "print 'model.reconstruction_err_', model.reconstruction_err_\n",
    "#print 'model.components_', model.components_"
   ]
  },
  {
   "cell_type": "code",
   "execution_count": null,
   "metadata": {
    "collapsed": false
   },
   "outputs": [],
   "source": [
    "err = []\n",
    "n_comps = range(1, 11)\n",
    "for n_comp in n_comps:\n",
    "    model = NMF(n_components=n_comp, init='random', random_state=0)\n",
    "    model.fit(Xpos) \n",
    "    err += [model.reconstruction_err_]\n",
    "plt.plot(n_comps, err)"
   ]
  }
 ],
 "metadata": {
  "kernelspec": {
   "display_name": "Python [Root]",
   "language": "python",
   "name": "Python [Root]"
  },
  "language_info": {
   "codemirror_mode": {
    "name": "ipython",
    "version": 2
   },
   "file_extension": ".py",
   "mimetype": "text/x-python",
   "name": "python",
   "nbconvert_exporter": "python",
   "pygments_lexer": "ipython2",
   "version": "2.7.12"
  }
 },
 "nbformat": 4,
 "nbformat_minor": 0
}
