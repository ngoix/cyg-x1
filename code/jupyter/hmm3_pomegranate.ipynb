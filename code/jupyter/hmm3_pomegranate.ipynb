{
 "cells": [
  {
   "cell_type": "code",
   "execution_count": null,
   "metadata": {
    "collapsed": false
   },
   "outputs": [],
   "source": [
    "from sklearn.preprocessing import StandardScaler\n",
    "from visualization_fct import *\n",
    "\n",
    "import itertools\n",
    "from bokeh.io import output_notebook\n",
    "output_notebook()\n",
    "from bokeh.plotting import show  # output_file, save\n",
    "\n",
    "from pomegranate import HiddenMarkovModel\n",
    "from pomegranate import MultivariateGaussianDistribution\n",
    "from pomegranate import State, Distribution\n",
    "\n",
    "import matplotlib.pyplot as plt  # , mpld3\n",
    "\n",
    "data = pd.read_csv(\"../asm_data/asm_data_for_ml.txt\", sep='\\t')\n",
    "del data['MJD']\n",
    "del data['error']\n",
    "del data['errorA']\n",
    "del data['errorB']\n",
    "del data['errorC']\n",
    "data['rateCA'] = data.rateC / data.rateA\n",
    "data_thr = mask(data, 'orbit')  # rm too large values except for 'orbit'\n",
    "\n",
    "\n",
    "np.random.seed(1)\n",
    "\n",
    "X = np.c_[data_thr.orbit, data_thr.rate, data_thr.rateA, data_thr.rateB,\n",
    "          data_thr.rateC, data_thr.rateCA]\n",
    "\n",
    "scaler = StandardScaler()\n",
    "X = scaler.fit_transform(X)"
   ]
  },
  {
   "cell_type": "code",
   "execution_count": null,
   "metadata": {
    "collapsed": true
   },
   "outputs": [],
   "source": [
    "from sklearn.cluster import KMeans\n",
    "\n",
    "km = KMeans(n_clusters=3)\n",
    "y = km.fit_predict(X)"
   ]
  },
  {
   "cell_type": "code",
   "execution_count": null,
   "metadata": {
    "collapsed": false
   },
   "outputs": [],
   "source": [
    "X_1 = X[y==0]\n",
    "X_2 = X[y==1]\n",
    "X_3 = X[y==2]\n",
    "a = MultivariateGaussianDistribution.from_samples(X_1)\n",
    "b = MultivariateGaussianDistribution.from_samples(X_2)\n",
    "c = MultivariateGaussianDistribution.from_samples(X_3)\n",
    "s1 = State(a, name=\"M1\")\n",
    "s2 = State(b, name=\"M2\")\n",
    "s3 = State(c, name=\"M3\")\n",
    "\n",
    "hmm = HiddenMarkovModel()\n",
    "hmm.add_states(s1, s2, s3)\n",
    "hmm.add_transition(hmm.start, s1, 0.4)\n",
    "hmm.add_transition(hmm.start, s3, 0.3)\n",
    "hmm.add_transition(hmm.start, s2, 0.3)\n",
    "\n",
    "hmm.add_transition(s1, s1, 0.9)\n",
    "hmm.add_transition(s1, s2, 0.1)\n",
    "\n",
    "hmm.add_transition(s2, s1, 0.05)\n",
    "hmm.add_transition(s2, s3, 0.05)\n",
    "hmm.add_transition(s2, s2, 0.9)\n",
    "\n",
    "hmm.add_transition(s3, s3, 0.9)\n",
    "hmm.add_transition(s3, s2, 0.1)\n",
    "hmm.bake()\n",
    "hmm.fit(X)  # , weights=w) hmm does not support weights in pomegranate\n",
    "preds = hmm.predict(X)\n",
    "probs = hmm.predict_proba(X)\n",
    "\n",
    "data_thr['preds'] = pd.Series(preds).astype(\"category\")\n",
    "\n",
    "color_key = [\"red\", \"blue\", \"yellow\", \"grey\", \"black\", \"purple\", \"pink\",\n",
    "             \"brown\", \"green\", \"orange\"]  # Spectral9\n",
    "color_key = color_key[:len(set(preds))+2]\n",
    "\n",
    "covs = np.array([np.array(hmm.states[m].distribution.parameters[1])\n",
    "                 for m in range(3)])\n",
    "means = np.array([np.array(hmm.states[m].distribution.parameters[0])\n",
    "                  for m in range(3)])\n",
    "\n",
    "# transform cov for non-standardizeed data:\n",
    "covs = np.array([np.dot(np.diag(np.sqrt(scaler.var_)),\n",
    "                        np.dot(covs[j], np.diag(np.sqrt(scaler.var_))))\n",
    "                 for j in range(covs.shape[0])])\n",
    "means = np.array([scaler.inverse_transform(means[j].reshape(1, -1)).T\n",
    "                  for j in range(means.shape[0])])"
   ]
  },
  {
   "cell_type": "code",
   "execution_count": null,
   "metadata": {
    "collapsed": false
   },
   "outputs": [],
   "source": [
    "# single plot rateCA vs rate with predicted classes and ellipses:\n",
    "x = 5\n",
    "y = 1\n",
    "covs_xy = [covs[j][[x, y]][:, [x, y]] for j in range(len(covs))]\n",
    "means_xy = [means[j][[x, y]] for j in range(len(covs))]\n",
    "\n",
    "    # # # #uncommment if log\n",
    "    # for j in range(len(covs)):\n",
    "    #     covs_xy[j][0] = np.exp(covs_xy[j][0]) - 1\n",
    "    #     means_xy[j][0] = np.exp(means_xy[j][0]) - 1\n",
    "\n",
    "single_plot = bokeh_datashader_plot(data_thr, covs=covs_xy, means=means_xy,\n",
    "                                    x_name='rateCA',\n",
    "                                    y_name='rate',\n",
    "                                    plot_width=900, plot_height=300,\n",
    "                                    pixel_width=3000, pixel_height=1000,\n",
    "                                    spread=True, color_key=color_key)\n",
    "show(single_plot)"
   ]
  },
  {
   "cell_type": "code",
   "execution_count": null,
   "metadata": {
    "collapsed": false
   },
   "outputs": [],
   "source": [
    "T = np.exp(hmm.dense_transition_matrix())[:3, :3]\n",
    "%matplotlib notebook\n",
    "plt.figure()\n",
    "plt.imshow(T, interpolation='nearest', cmap=plt.cm.Blues)\n",
    "plt.colorbar()\n",
    "for i, j in itertools.product(range(T.shape[0]), range(T.shape[1])):\n",
    "        plt.text(j, i, int(T[i, j]*100),\n",
    "                 horizontalalignment=\"center\",\n",
    "                 color=\"white\" if T[i, j] > 0.5 else \"black\")\n",
    "plt.title('log_likelihood:%0.3f' % hmm.log_probability(X))\n",
    "#[\"red\", \"blue\", \"yellow\", \"grey\", \"black\", \"purple\", \"pink\", \"brown\", \"green\"]"
   ]
  },
  {
   "cell_type": "code",
   "execution_count": null,
   "metadata": {
    "collapsed": false
   },
   "outputs": [],
   "source": [
    "import matplotlib.animation as animation\n",
    "\n",
    "fig, ax = plt.subplots()\n",
    "\n",
    "XX = np.c_[data_thr.rateCA, data_thr.rate]\n",
    "XX = XX[np.array(data_thr.rateCA < 5) * np.array(data_thr.rate < 80)]\n",
    "\n",
    "#line, = ax.plot(En[0, :], X_flux[0, :])\n",
    "line, = ax.plot(XX[:, 0], XX[:, 1], '.')\n",
    "\n",
    "for n_comp in range(len(covs_xy)):\n",
    "    cov = covs_xy[n_comp]\n",
    "    mean = means_xy[n_comp]\n",
    "    v, w = np.linalg.eigh(cov)\n",
    "    e0 = w[0] / np.linalg.norm(w[0])\n",
    "    e1 = w[1] / np.linalg.norm(w[1])\n",
    "    t = np.linspace(0, 2 * np.pi, 10000)\n",
    "    # 4.605 corresponds to 90% quantile:\n",
    "    a = (mean[0]\n",
    "         + np.sqrt(4.605 * v[0]) * np.cos(t) * e0[0]\n",
    "         + np.sqrt(4.605 * v[1]) * np.sin(t) * e1[0])\n",
    "    b = (mean[1]\n",
    "         + np.sqrt(4.605 * v[0]) * np.cos(t) * e0[1]\n",
    "         + np.sqrt(4.605 * v[1]) * np.sin(t) * e1[1])\n",
    "\n",
    "    ax.plot(a, b, color=color_key[n_comp])\n",
    "\n",
    "\n",
    "def animate(i):\n",
    "    line.set_xdata(XX[10*i:10*(i+1), 0])  # update the data\n",
    "    line.set_ydata(XX[10*i:10*(i+1), 1])   # update the data\n",
    "    line.set_color(color_key[preds[10*i]])\n",
    "    return line,\n",
    "\n",
    "ani = animation.FuncAnimation(fig, animate, np.arange(1000, 9300), #init_func=init,\n",
    "                              interval=1, blit=True)\n",
    "#plt.show()\n"
   ]
  }
 ],
 "metadata": {
  "kernelspec": {
   "display_name": "Python [Root]",
   "language": "python",
   "name": "Python [Root]"
  },
  "language_info": {
   "codemirror_mode": {
    "name": "ipython",
    "version": 2
   },
   "file_extension": ".py",
   "mimetype": "text/x-python",
   "name": "python",
   "nbconvert_exporter": "python",
   "pygments_lexer": "ipython2",
   "version": "2.7.12"
  }
 },
 "nbformat": 4,
 "nbformat_minor": 0
}
