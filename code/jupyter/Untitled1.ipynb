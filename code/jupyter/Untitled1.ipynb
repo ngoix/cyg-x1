{
 "cells": [
  {
   "cell_type": "code",
   "execution_count": null,
   "metadata": {
    "collapsed": false
   },
   "outputs": [],
   "source": [
    "from sklearn.preprocessing import StandardScaler\n",
    "from visualization_fct import *\n",
    "\n",
    "import itertools\n",
    "from bokeh.io import output_notebook\n",
    "output_notebook()\n",
    "%matplotlib notebook\n",
    "\n",
    "from bokeh.plotting import show  # output_file, save\n",
    "from sklearn.mixture import GaussianMixture\n",
    "\n",
    "import matplotlib.pyplot as plt  # , mpld3\n",
    "\n",
    "data = pd.read_csv(\"../asm_data/asm_data_for_ml.txt\", sep='\\t')\n",
    "del data['MJD']\n",
    "del data['error']\n",
    "del data['errorA']\n",
    "del data['errorB']\n",
    "del data['errorC']\n",
    "data['rateCA'] = data.rateC / data.rateA\n",
    "data_thr = mask(data, 'orbit')  # rm too large values except for 'orbit'\n",
    "\n",
    "\n",
    "np.random.seed(1)\n",
    "\n",
    "X = np.c_[data_thr.orbit, data_thr.rate, data_thr.rateA, data_thr.rateB,\n",
    "          data_thr.rateC, data_thr.rateCA]\n",
    "\n",
    "scaler = StandardScaler()\n",
    "X = scaler.fit_transform(X)\n",
    "\n",
    "gmm = GaussianMixture(n_components=3, covariance_type='full', n_init=1)\n",
    "gmm.fit(X)  # , weights=w) not implemented in sklearn yet\n",
    "preds = gmm.predict(X)\n",
    "probs = gmm.predict_proba(X)\n",
    "\n",
    "data_thr['preds'] = pd.Series(preds).astype(\"category\")\n",
    "\n",
    "color_key = [\"red\", \"blue\", \"yellow\", \"grey\", \"black\", \"purple\", \"pink\",\n",
    "             \"brown\", \"green\", \"orange\"]  # Spectral9\n",
    "color_key = color_key[:len(set(preds))+1]\n",
    "\n",
    "covs = gmm.covariances_\n",
    "means = gmm.means_\n",
    "\n",
    "# transform cov for non-standardizeed data:\n",
    "covs = np.array([np.dot(np.diag(np.sqrt(scaler.var_)),\n",
    "                        np.dot(covs[j], np.diag(np.sqrt(scaler.var_))))\n",
    "                 for j in range(covs.shape[0])])\n",
    "means = np.array([scaler.inverse_transform(means[j].reshape(1, -1)).T\n",
    "                  for j in range(means.shape[0])])"
   ]
  },
  {
   "cell_type": "code",
   "execution_count": null,
   "metadata": {
    "collapsed": false
   },
   "outputs": [],
   "source": [
    "# single plot rateCA vs rate with predicted classes and ellipses:\n",
    "x = 5\n",
    "y = 1\n",
    "covs_xy = [covs[j][[x, y]][:, [x, y]] for j in range(len(covs))]\n",
    "means_xy = [means[j][[x, y]] for j in range(len(covs))]\n",
    "\n",
    "p = interactive_transition_probability(data_thr, covs=covs_xy, means=means_xy, percent10=False)"
   ]
  },
  {
   "cell_type": "code",
   "execution_count": null,
   "metadata": {
    "collapsed": false
   },
   "outputs": [],
   "source": [
    "show(p)"
   ]
  },
  {
   "cell_type": "code",
   "execution_count": null,
   "metadata": {
    "collapsed": false
   },
   "outputs": [],
   "source": [
    "x_name='rateCA'\n",
    "y_name='rate'\n",
    "plot_width=900\n",
    "plot_height=300\n",
    "title=None\n",
    "pred_name = 'preds'\n",
    "TOOLS = \"wheel_zoom,box_zoom,reset,box_select,pan\"  # ,lasso_select,save\"\n",
    "\n",
    "xmin_p = np.percentile(data[x_name], 0.1)\n",
    "xmax_p = np.percentile(data[x_name], 99)\n",
    "ymin_p = np.percentile(data[y_name], 0.1)\n",
    "ymax_p = np.percentile(data[y_name], 99)\n",
    "\n",
    "fig = Figure(x_range=(xmin_p, xmax_p),\n",
    "             y_range=(ymin_p, ymax_p),\n",
    "             plot_width=plot_width,\n",
    "             plot_height=plot_height,\n",
    "             title=title,\n",
    "             tools=TOOLS)\n",
    "data_extended = data_thr.copy(deep=True)\n",
    "data_extended['x_next'] = np.r_[data_thr[x_name][1:],\n",
    "                                data_thr[x_name][0]]\n",
    "data_extended['y_next'] = np.r_[data_thr[y_name][1:],\n",
    "                                data_thr[y_name][0]]\n"
   ]
  },
  {
   "cell_type": "code",
   "execution_count": null,
   "metadata": {
    "collapsed": false
   },
   "outputs": [],
   "source": [
    "source = ColumnDataSource(data_extended)\n",
    "colors = [color_key[x] for x in data_extended[pred_name]]\n",
    "colors_next = [color_key[x] for x in data_extended[pred_name][1:]]\n",
    "colors_next += color_key[(data_extended[pred_name][0])]\n",
    "n_samples = data_extended.shape[0]\n"
   ]
  },
  {
   "cell_type": "code",
   "execution_count": null,
   "metadata": {
    "collapsed": false
   },
   "outputs": [],
   "source": [
    "data_extended\n",
    "fig.circle(x_name, y_name, source=source, color=colors)\n",
    "show(fig)"
   ]
  },
  {
   "cell_type": "code",
   "execution_count": null,
   "metadata": {
    "collapsed": false
   },
   "outputs": [],
   "source": [
    "source.data"
   ]
  },
  {
   "cell_type": "code",
   "execution_count": null,
   "metadata": {
    "collapsed": true
   },
   "outputs": [],
   "source": [
    "fig2 = Figure(x_range=(xmin_p, xmax_p),\n",
    "              y_range=(ymin_p, ymax_p),\n",
    "              plot_width=plot_width,\n",
    "              plot_height=plot_height,\n",
    "              title=title,\n",
    "              tools=TOOLS)"
   ]
  },
  {
   "cell_type": "code",
   "execution_count": null,
   "metadata": {
    "collapsed": false
   },
   "outputs": [],
   "source": [
    "fig2.circle('x_next', 'y_next', source=source, color=colors_next)\n",
    "show(fig2)"
   ]
  }
 ],
 "metadata": {
  "kernelspec": {
   "display_name": "Python [Root]",
   "language": "python",
   "name": "Python [Root]"
  },
  "language_info": {
   "codemirror_mode": {
    "name": "ipython",
    "version": 2
   },
   "file_extension": ".py",
   "mimetype": "text/x-python",
   "name": "python",
   "nbconvert_exporter": "python",
   "pygments_lexer": "ipython2",
   "version": "2.7.12"
  }
 },
 "nbformat": 4,
 "nbformat_minor": 0
}
