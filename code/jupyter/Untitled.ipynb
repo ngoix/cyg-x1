{
 "cells": [
  {
   "cell_type": "code",
   "execution_count": 1,
   "metadata": {
    "collapsed": false
   },
   "outputs": [
    {
     "data": {
      "text/html": [
       "\n",
       "    <div class=\"bk-root\">\n",
       "        <a href=\"http://bokeh.pydata.org\" target=\"_blank\" class=\"bk-logo bk-logo-small bk-logo-notebook\"></a>\n",
       "        <span id=\"169359d8-cab6-463e-ad0b-021ca544cd54\">Loading BokehJS ...</span>\n",
       "    </div>"
      ]
     },
     "metadata": {},
     "output_type": "display_data"
    },
    {
     "data": {
      "application/javascript": [
       "\n",
       "(function(global) {\n",
       "  function now() {\n",
       "    return new Date();\n",
       "  }\n",
       "\n",
       "  if (typeof (window._bokeh_onload_callbacks) === \"undefined\") {\n",
       "    window._bokeh_onload_callbacks = [];\n",
       "  }\n",
       "\n",
       "  function run_callbacks() {\n",
       "    window._bokeh_onload_callbacks.forEach(function(callback) { callback() });\n",
       "    delete window._bokeh_onload_callbacks\n",
       "    console.info(\"Bokeh: all callbacks have finished\");\n",
       "  }\n",
       "\n",
       "  function load_libs(js_urls, callback) {\n",
       "    window._bokeh_onload_callbacks.push(callback);\n",
       "    if (window._bokeh_is_loading > 0) {\n",
       "      console.log(\"Bokeh: BokehJS is being loaded, scheduling callback at\", now());\n",
       "      return null;\n",
       "    }\n",
       "    if (js_urls == null || js_urls.length === 0) {\n",
       "      run_callbacks();\n",
       "      return null;\n",
       "    }\n",
       "    console.log(\"Bokeh: BokehJS not loaded, scheduling load and callback at\", now());\n",
       "    window._bokeh_is_loading = js_urls.length;\n",
       "    for (var i = 0; i < js_urls.length; i++) {\n",
       "      var url = js_urls[i];\n",
       "      var s = document.createElement('script');\n",
       "      s.src = url;\n",
       "      s.async = false;\n",
       "      s.onreadystatechange = s.onload = function() {\n",
       "        window._bokeh_is_loading--;\n",
       "        if (window._bokeh_is_loading === 0) {\n",
       "          console.log(\"Bokeh: all BokehJS libraries loaded\");\n",
       "          run_callbacks()\n",
       "        }\n",
       "      };\n",
       "      s.onerror = function() {\n",
       "        console.warn(\"failed to load library \" + url);\n",
       "      };\n",
       "      console.log(\"Bokeh: injecting script tag for BokehJS library: \", url);\n",
       "      document.getElementsByTagName(\"head\")[0].appendChild(s);\n",
       "    }\n",
       "  };\n",
       "\n",
       "  var js_urls = ['https://cdn.pydata.org/bokeh/release/bokeh-0.12.0.min.js', 'https://cdn.pydata.org/bokeh/release/bokeh-widgets-0.12.0.min.js', 'https://cdn.pydata.org/bokeh/release/bokeh-compiler-0.12.0.min.js'];\n",
       "\n",
       "  var inline_js = [\n",
       "    function(Bokeh) {\n",
       "      Bokeh.set_log_level(\"info\");\n",
       "    },\n",
       "    \n",
       "    function(Bokeh) {\n",
       "      Bokeh.$(\"#169359d8-cab6-463e-ad0b-021ca544cd54\").text(\"BokehJS successfully loaded\");\n",
       "    },\n",
       "    function(Bokeh) {\n",
       "      console.log(\"Bokeh: injecting CSS: https://cdn.pydata.org/bokeh/release/bokeh-0.12.0.min.css\");\n",
       "      Bokeh.embed.inject_css(\"https://cdn.pydata.org/bokeh/release/bokeh-0.12.0.min.css\");\n",
       "      console.log(\"Bokeh: injecting CSS: https://cdn.pydata.org/bokeh/release/bokeh-widgets-0.12.0.min.css\");\n",
       "      Bokeh.embed.inject_css(\"https://cdn.pydata.org/bokeh/release/bokeh-widgets-0.12.0.min.css\");\n",
       "    }\n",
       "  ];\n",
       "\n",
       "  function run_inline_js() {\n",
       "    for (var i = 0; i < inline_js.length; i++) {\n",
       "      inline_js[i](window.Bokeh);\n",
       "    }\n",
       "  }\n",
       "\n",
       "  if (window._bokeh_is_loading === 0) {\n",
       "    console.log(\"Bokeh: BokehJS loaded, going straight to plotting\");\n",
       "    run_inline_js();\n",
       "  } else {\n",
       "    load_libs(js_urls, function() {\n",
       "      console.log(\"Bokeh: BokehJS plotting callback run at\", now());\n",
       "      run_inline_js();\n",
       "    });\n",
       "  }\n",
       "}(this));"
      ]
     },
     "metadata": {},
     "output_type": "display_data"
    }
   ],
   "source": [
    "from sklearn.preprocessing import StandardScaler\n",
    "from visualization_fct import *\n",
    "# from bokeh.plotting import output_file, show, save\n",
    "\n",
    "from sklearn.mixture import GaussianMixture\n",
    "from bokeh.plotting import output_notebook, show\n",
    "\n",
    "import matplotlib.pyplot as plt  # , mpld3\n",
    "%matplotlib notebook\n",
    "output_notebook()\n",
    "\n",
    "data = pd.read_csv(\"../asm_data/asm_data_for_ml.txt\", sep='\\t')\n",
    "del data['MJD']\n",
    "# del data['error']\n",
    "# del data['errorA']\n",
    "# del data['errorB']\n",
    "# del data['errorC']\n",
    "data['rateCA'] = data.rateC / data.rateA\n",
    "data_thr = mask(data, 'orbit')  # rm too large values except for 'orbit'\n",
    "\n",
    "\n",
    "del data_thr['error']\n",
    "del data_thr['errorA']\n",
    "del data_thr['errorB']\n",
    "del data_thr['errorC']\n",
    "\n",
    "\n",
    "np.random.seed(1)\n",
    "\n",
    "X = np.c_[data_thr.orbit, data_thr.rate, data_thr.rateA, data_thr.rateB,\n",
    "          data_thr.rateC, data_thr.rateCA]"
   ]
  },
  {
   "cell_type": "code",
   "execution_count": null,
   "metadata": {
    "collapsed": true
   },
   "outputs": [],
   "source": [
    "gmm = GaussianMixture(n_components=3, covariance_type='full', n_init=5)\n",
    "gmm.fit(X)  # , weights=w) not implemented in sklearn yet\n",
    "preds = gmm.predict(X)\n",
    "probs = gmm.predict_proba(X)\n",
    "\n",
    "data_thr['preds'] = pd.Series(preds).astype(\"category\")\n",
    "\n",
    "color_key = [\"red\", \"blue\", \"yellow\", \"grey\", \"black\", \"purple\", \"pink\",\n",
    "             \"brown\", \"green\", \"orange\"]  # Spectral9\n",
    "color_key = color_key[:len(set(preds))+1]\n",
    "\n",
    "covs = gmm.covariances_\n",
    "means = gmm.means_\n",
    "\n",
    "# transform cov for non-standardizeed data:\n",
    "#covs = np.array([np.dot(np.diag(np.sqrt(scaler.var_)),\n",
    "#                        np.dot(covs[j], np.diag(np.sqrt(scaler.var_))))\n",
    "#                 for j in range(covs.shape[0])])\n",
    "#means = np.array([scaler.inverse_transform(means[j].reshape(1, -1)).T\n",
    "#                  for j in range(means.shape[0])])\n",
    "\n",
    "# single plot rateCA vs rate with predicted classes and ellipses:\n",
    "x = 5\n",
    "y = 1\n",
    "covs_xy = [covs[j][[x, y]][:, [x, y]] for j in range(len(covs))]\n",
    "means_xy = [means[j][[x, y]] for j in range(len(covs))]"
   ]
  },
  {
   "cell_type": "code",
   "execution_count": null,
   "metadata": {
    "collapsed": false
   },
   "outputs": [
    {
     "name": "stdout",
     "output_type": "stream",
     "text": [
      "> /home/nicolas/Documents/NYU-black_holes/code/visualization_fct.py(148)bokeh_datashader_plot()\n",
      "-> t = np.linspace(0, 2 * np.pi, 10000)\n"
     ]
    }
   ],
   "source": [
    "single_plot = bokeh_datashader_plot(data_thr, covs=covs_xy, means=means_xy,\n",
    "                                    x_name='rateCA',\n",
    "                                    y_name='rate',\n",
    "                                    plot_width=900, plot_height=300,\n",
    "                                    pixel_width=3000, pixel_height=1000,\n",
    "                                    spread=True, color_key=color_key)\n",
    "show(single_plot)"
   ]
  },
  {
   "cell_type": "code",
   "execution_count": null,
   "metadata": {
    "collapsed": false
   },
   "outputs": [],
   "source": [
    "m=gmm.means_[0]\n",
    "print m\n",
    "m[[5,1]]"
   ]
  },
  {
   "cell_type": "code",
   "execution_count": null,
   "metadata": {
    "collapsed": false
   },
   "outputs": [],
   "source": [
    "c=gmm.covariances_[0]\n",
    "#print c\n",
    "c[[5,1]][:, [5, 1]]"
   ]
  },
  {
   "cell_type": "code",
   "execution_count": null,
   "metadata": {
    "collapsed": false,
    "scrolled": true
   },
   "outputs": [],
   "source": [
    "covs_xy[0]"
   ]
  },
  {
   "cell_type": "code",
   "execution_count": null,
   "metadata": {
    "collapsed": false
   },
   "outputs": [],
   "source": [
    "means_xy[0]"
   ]
  },
  {
   "cell_type": "code",
   "execution_count": null,
   "metadata": {
    "collapsed": false
   },
   "outputs": [],
   "source": [
    "gmm = GaussianMixture(n_components=3, n_init=5)\n",
    "gmm.fit(X)  # , weights=w) not implemented in sklearn yet\n",
    "preds = gmm.predict(X)\n",
    "probs = gmm.predict_proba(X)\n",
    "\n",
    "data_thr['preds'] = pd.Series(preds).astype(\"category\")\n",
    "\n",
    "color_key = [\"red\", \"blue\", \"yellow\", \"grey\", \"black\", \"purple\", \"pink\",\n",
    "             \"brown\", \"green\", \"orange\"]  # Spectral9\n",
    "color_key = color_key[:len(set(preds))+1]\n",
    "\n",
    "covs = gmm.covariances_\n",
    "means = gmm.means_\n",
    "\n",
    "# transform cov for non-standardizeed data:\n",
    "covs = np.array([np.dot(np.diag(np.sqrt(scaler.var_)),\n",
    "                        np.dot(covs[j], np.diag(np.sqrt(scaler.var_))))\n",
    "                 for j in range(covs.shape[0])])\n",
    "means = np.array([scaler.inverse_transform(means[j].reshape(1, -1)).T\n",
    "                  for j in range(means.shape[0])])\n",
    "\n",
    "# single plot rateCA vs rate with predicted classes and ellipses:\n",
    "x = 5\n",
    "y = 1\n",
    "covs_xy = [covs[j][[x, y]][:, [x, y]] for j in range(len(covs))]\n",
    "means_xy = [means[j][[x, y]] for j in range(len(covs))]\n",
    "\n",
    "single_plot = bokeh_datashader_plot(data_thr, covs=covs_xy, means=means_xy,\n",
    "                                    x_name='rateCA',\n",
    "                                    y_name='rate',\n",
    "                                    plot_width=900, plot_height=300,\n",
    "                                    pixel_width=3000, pixel_height=1000,\n",
    "                                    spread=True, color_key=color_key)\n",
    "show(single_plot)"
   ]
  },
  {
   "cell_type": "code",
   "execution_count": null,
   "metadata": {
    "collapsed": true
   },
   "outputs": [],
   "source": []
  }
 ],
 "metadata": {
  "kernelspec": {
   "display_name": "Python [Root]",
   "language": "python",
   "name": "Python [Root]"
  },
  "language_info": {
   "codemirror_mode": {
    "name": "ipython",
    "version": 2
   },
   "file_extension": ".py",
   "mimetype": "text/x-python",
   "name": "python",
   "nbconvert_exporter": "python",
   "pygments_lexer": "ipython2",
   "version": "2.7.12"
  }
 },
 "nbformat": 4,
 "nbformat_minor": 0
}
