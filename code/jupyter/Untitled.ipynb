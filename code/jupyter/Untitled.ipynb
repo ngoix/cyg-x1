{
 "cells": [
  {
   "cell_type": "code",
   "execution_count": 1,
   "metadata": {
    "collapsed": false
   },
   "outputs": [],
   "source": [
    "from visualization_fct import *\n",
    "from sklearn.mixture import GaussianMixture\n",
    "from bokeh.plotting import output_file, show, save\n",
    "\n",
    "from bokeh.resources import CDN\n",
    "from bokeh.embed import file_html\n",
    "from bokeh.mpl import to_bokeh\n",
    "# output_file('theplott')\n",
    "\n",
    "import matplotlib.pyplot as plt, mpld3\n",
    "\n",
    "\n",
    "Html_file= open(\"gmm_sklearn_3components.html\",\"w\")\n",
    "\n",
    "data = pd.read_csv(\"asm_data_for_ml.txt\", sep='\\t')\n",
    "del data['MJD']\n",
    "del data['error']\n",
    "del data['errorA']\n",
    "del data['errorB']\n",
    "del data['errorC']\n",
    "data['rateCA'] = data.rateC / data.rateA\n",
    "data_thr = mask(data, 'orbit')  # rm too large values except for 'orbit'\n",
    "\n",
    "\n",
    "# GMM with 3 components: (even without rateCA in the training data, we observe\n",
    "# its particular role)\n",
    "np.random.seed(1)\n",
    "#X = np.c_[data_thr.orbit, data_thr.rateA, data_thr.rateB, data_thr.rateC, data_thr.rate]\n",
    "X = np.c_[data_thr.orbit, data_thr.rate, data_thr.rateA, data_thr.rateB, data_thr.rateC, data_thr.rateCA]\n",
    "\n",
    "gmm = GaussianMixture(n_components=3, n_init=5).fit(X)\n",
    "preds = gmm.predict(X)\n",
    "probs = gmm.predict_proba(X)\n",
    "\n",
    "data_thr['preds'] = pd.Series(preds).astype(\"category\")\n",
    "\n",
    "color_key = [\"red\", \"yellow\", \"blue\", \"grey\", \"black\", \"purple\", \"pink\",\n",
    "             \"brown\", \"green\", \"orange\"]  # Spectral9\n",
    "color_key = color_key[:len(set(preds))+1]\n"
   ]
  },
  {
   "cell_type": "code",
   "execution_count": 2,
   "metadata": {
    "collapsed": false
   },
   "outputs": [],
   "source": [
    "fig = plt.figure()\n",
    "sns.set()\n",
    "fg = sns.pairplot(data_thr, hue=\"preds\", palette=\"Set2\",\n",
    "                  diag_kind=\"kde\", size=1.7)  # ,hue_order=['3', '2', '1'])\n"
   ]
  },
  {
   "cell_type": "code",
   "execution_count": 4,
   "metadata": {
    "collapsed": true
   },
   "outputs": [],
   "source": [
    "fg.fig.sh"
   ]
  },
  {
   "cell_type": "code",
   "execution_count": null,
   "metadata": {
    "collapsed": false
   },
   "outputs": [],
   "source": [
    "html = mpld3.fig_to_html(fg.fig)\n",
    "html\n",
    "\n"
   ]
  },
  {
   "cell_type": "code",
   "execution_count": null,
   "metadata": {
    "collapsed": false
   },
   "outputs": [],
   "source": [
    "plt.figure()\n",
    "plt.show()\n"
   ]
  },
  {
   "cell_type": "code",
   "execution_count": null,
   "metadata": {
    "collapsed": false
   },
   "outputs": [],
   "source": [
    "covs = gmm.covariances_\n",
    "means = gmm.means_\n",
    "p = scatter_matrix(data_thr, covs=covs, means=means, color_key=color_key)\n",
    "show(p)"
   ]
  }
 ],
 "metadata": {
  "kernelspec": {
   "display_name": "Python [Root]",
   "language": "python",
   "name": "Python [Root]"
  },
  "language_info": {
   "codemirror_mode": {
    "name": "ipython",
    "version": 2
   },
   "file_extension": ".py",
   "mimetype": "text/x-python",
   "name": "python",
   "nbconvert_exporter": "python",
   "pygments_lexer": "ipython2",
   "version": "2.7.12"
  }
 },
 "nbformat": 4,
 "nbformat_minor": 0
}
