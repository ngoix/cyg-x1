{
 "cells": [
  {
   "cell_type": "code",
   "execution_count": null,
   "metadata": {
    "collapsed": false
   },
   "outputs": [],
   "source": [
    "from visualization_fct import *\n",
    "from sklearn.discriminant_analysis import LinearDiscriminantAnalysis as LDA\n",
    "from sklearn.preprocessing import scale\n",
    "\n",
    "# from bokeh.plotting import output_file, show, save\n",
    "# from bokeh.mpl import to_bokeh\n",
    "\n",
    "from bokeh.resources import CDN\n",
    "from bokeh.embed import file_html\n",
    "from bokeh.plotting import output_notebook, show, output_file\n",
    "output_notebook()\n",
    "\n",
    "import matplotlib.pyplot as plt  # , mpld3\n",
    "import pyfits\n",
    "\n",
    "\n",
    "np.random.seed(0)\n",
    "\n",
    "# for now, no ratio in data (no rates A, B or C in this dataset)\n",
    "\n",
    "only_flux = True\n",
    "scale_data = True\n",
    "\n",
    "hdulist = pyfits.open('../iirc_data/all_data_for_ml.fits')\n",
    "data = hdulist[1].data\n",
    "\n",
    "X_flux, X, data_thr, data_fr_en = get_iirc_data(\n",
    "    data, only_flux=only_flux, scale_data=scale_data, thresholded=True)[:4]\n",
    "\n",
    "# labels from gamma as in the paper:\n",
    "a = np.array(data_thr['gamma'])\n",
    "y = (a > 2.5).astype('int') + (a > 2).astype('int')\n"
   ]
  },
  {
   "cell_type": "code",
   "execution_count": null,
   "metadata": {
    "collapsed": false
   },
   "outputs": [],
   "source": [
    "data_thr.columns\n",
    "X_flux.shape"
   ]
  },
  {
   "cell_type": "code",
   "execution_count": null,
   "metadata": {
    "collapsed": false
   },
   "outputs": [],
   "source": [
    "# make video / widget of showing spectra over time\n",
    "import matplotlib.animation as animation\n",
    "\n",
    "En = np.concatenate([np.array(data_fr_en[name]).reshape(-1, 1) for name in data_fr_en.columns], axis=1)\n",
    "colors = ['red', 'blue', 'green']\n",
    "\n",
    "#%matplotlib auto  #  'osx', 'qt4', 'qt5', 'gtk3', 'wx', 'qt', 'gtk', 'tk'\n",
    "\n",
    "fig, ax = plt.subplots()\n",
    "\n",
    "#line, = ax.plot(En[0, :], X_flux[0, :])\n",
    "line, = ax.plot(range(X_flux.shape[1]), X_flux[0, :])\n",
    "\n",
    "def animate(i):\n",
    "    # line.set_xdata(En[i, :])  # update the data\n",
    "    line.set_ydata(X_flux[i, :])   # update the data\n",
    "    line.set_color(colors[y[i]])\n",
    "    return line,\n",
    "\n",
    "\n",
    "## Init only required for blitting to give a clean slate.\n",
    "#def init():\n",
    "#    line.set_ydata(np.ma.array(x, mask=True))\n",
    "#    return line,\n",
    "\n",
    "ani = animation.FuncAnimation(fig, animate, np.arange(1, 2000), #init_func=init,\n",
    "                              interval=25, blit=True)\n",
    "plt.show()\n",
    "\n",
    "\n",
    "#ani.save('spectra_over_time.mp4', writer = 'mencoder', fps=30, extra_args=['-vcodec', 'libx264'])"
   ]
  },
  {
   "cell_type": "code",
   "execution_count": null,
   "metadata": {
    "collapsed": false
   },
   "outputs": [],
   "source": [
    "# visualize datapoints by plotting spectrum multiplied by energy (en_hi + en_lo)/2\n",
    "\n",
    "fig, ax = plt.subplots()\n",
    "#plt.axes(xlim=(0, 1e-6), ylim=(0, 80))\n",
    "\n",
    "line, = ax.plot(En[0, :], X_flux[0, :] * En[0, :])\n",
    "#line, = ax.plot(range(X_flux.shape[1]), X_flux[0, :] * En[0, :])\n",
    "\n",
    "def animate(i):\n",
    "    line.set_xdata(En[i, :])  # update the data\n",
    "    line.set_ydata(X_flux[i, :] * En[i, :])   # update the data\n",
    "    line.set_color(colors[y[i]])\n",
    "    return line,\n",
    "\n",
    "\n",
    "# Init only required for blitting to give a clean slate.\n",
    "def init():\n",
    "    line.set_xdata(En[0, :])\n",
    "    line.set_ydata(X_flux[0, :] * En[0, :])\n",
    "    line.set_color(colors[y[0]])\n",
    "    return line,\n",
    "\n",
    "ani = animation.FuncAnimation(fig, animate, np.arange(1, 2000), init_func=init,\n",
    "                              interval=250, blit=True)\n",
    "plt.show()"
   ]
  },
  {
   "cell_type": "code",
   "execution_count": null,
   "metadata": {
    "collapsed": false
   },
   "outputs": [],
   "source": [
    "#plt.matshow(En, cmap='viridis')\n",
    "plt.figure()\n",
    "plt.plot(En[:, 40])\n",
    "plt.show()"
   ]
  },
  {
   "cell_type": "code",
   "execution_count": null,
   "metadata": {
    "collapsed": false
   },
   "outputs": [],
   "source": [
    "lda = LDA(n_components=2).fit(X, y)\n",
    "preds = lda.predict(X)\n",
    "X_lda = lda.transform(X)\n",
    "X_lda"
   ]
  },
  {
   "cell_type": "code",
   "execution_count": null,
   "metadata": {
    "collapsed": false
   },
   "outputs": [],
   "source": [
    "lda = LDA(n_components=2).fit(X_flux, y)\n",
    "preds = lda.predict(X_flux)\n",
    "X_lda = lda.transform(X_flux)\n",
    "X_lda"
   ]
  },
  {
   "cell_type": "code",
   "execution_count": null,
   "metadata": {
    "collapsed": false
   },
   "outputs": [],
   "source": [
    "%matplotlib inline\n",
    "clr = np.array(['blue', 'red', 'yellow'])\n",
    "for j in range(3):\n",
    "    plt.plot(X_lda[:, 0][y==j], X_lda[:, 1][y==j], '.')\n",
    "plt.show()"
   ]
  },
  {
   "cell_type": "code",
   "execution_count": null,
   "metadata": {
    "collapsed": false,
    "scrolled": true
   },
   "outputs": [],
   "source": [
    "for j in range(3):\n",
    "    plt.plot(X_lda[:, 0][preds==j], X_lda[:, 1][preds==j], '.')\n",
    "plt.show()"
   ]
  },
  {
   "cell_type": "code",
   "execution_count": null,
   "metadata": {
    "collapsed": false
   },
   "outputs": [],
   "source": [
    "lda.explained_variance_ratio_"
   ]
  },
  {
   "cell_type": "code",
   "execution_count": null,
   "metadata": {
    "collapsed": false
   },
   "outputs": [],
   "source": [
    "%matplotlib notebook\n",
    "plt.figure()\n",
    "plt.plot(lda.means_.T)\n",
    "#plt.ylim([-1e-9,2e-8])\n",
    "plt.show()"
   ]
  },
  {
   "cell_type": "code",
   "execution_count": null,
   "metadata": {
    "collapsed": false
   },
   "outputs": [],
   "source": [
    "%matplotlib notebook\n",
    "plt.figure()\n",
    "plt.plot(lda.scalings_)\n",
    "plt.show()"
   ]
  },
  {
   "cell_type": "code",
   "execution_count": null,
   "metadata": {
    "collapsed": false
   },
   "outputs": [],
   "source": [
    "#try with X_flux instead of X\n",
    "from sklearn.decomposition import PCA\n",
    "pca = PCA(n_components=2)\n",
    "X_pca = pca.fit(X).transform(X)\n",
    "%matplotlib notebook\n",
    "plt.figure()\n",
    "for j in range(3):\n",
    "    plt.plot(X_pca[:, 0][y==j], X_pca[:, 1][y==j], '.')\n",
    "plt.show()"
   ]
  },
  {
   "cell_type": "code",
   "execution_count": null,
   "metadata": {
    "collapsed": false
   },
   "outputs": [],
   "source": [
    "pca.explained_variance_ratio_"
   ]
  },
  {
   "cell_type": "code",
   "execution_count": null,
   "metadata": {
    "collapsed": false
   },
   "outputs": [],
   "source": [
    "from sklearn.decomposition import PCA\n",
    "pca = PCA(n_components=None)\n",
    "X_pca = pca.fit(X).transform(X)\n",
    "plt.figure()\n",
    "print('pca.explained_variance_ratio_', pca.explained_variance_ratio_)\n",
    "#df = pd.DataFrame(X_pca, columns=['1','2','3'])\n",
    "#df['y'] = pd.Series(y).astype(\"category\")\n",
    "#scatter_matrix_seaborn(df, y='y', size=3)\n",
    "#plt.plot(pca.explained_variance_ratio_)\n",
    "plt.semilogy(pca.explained_variance_ratio_)\n",
    "plt.show()"
   ]
  },
  {
   "cell_type": "code",
   "execution_count": null,
   "metadata": {
    "collapsed": false,
    "scrolled": true
   },
   "outputs": [],
   "source": [
    "#pca.components_\n",
    "plt.figure()\n",
    "plt.plot(pca.components_[:3].T)\n",
    "plt.show()"
   ]
  },
  {
   "cell_type": "code",
   "execution_count": null,
   "metadata": {
    "collapsed": false
   },
   "outputs": [],
   "source": [
    "#nmf:\n",
    "\n",
    "from sklearn.decomposition import NMF\n",
    "Xpos = X - X.min(axis=0)\n",
    "model = NMF(n_components=2, init='random', random_state=0)\n",
    "model.fit(Xpos) \n",
    "X_nmf = model.transform(Xpos)\n",
    "for j in range(3):\n",
    "    plt.plot(X_nmf[:, 0][y==j], X_pca[:, 1][y==j], '.')\n",
    "plt.show()\n",
    "print 'model.reconstruction_err_', model.reconstruction_err_\n",
    "#print 'model.components_', model.components_"
   ]
  },
  {
   "cell_type": "code",
   "execution_count": null,
   "metadata": {
    "collapsed": false
   },
   "outputs": [],
   "source": [
    "model = NMF(n_components=2, init='random', random_state=0)\n",
    "%matplotlib notebook\n",
    "plt.figure()\n",
    "model.fit(Xpos)\n",
    "X_nmf = model.transform(Xpos)\n",
    "for j in range(3):\n",
    "    plt.plot(X_nmf[:, 0][preds==j], X_nmf[:, 1][preds==j], '.')#, c='k')\n",
    "plt.show()"
   ]
  },
  {
   "cell_type": "code",
   "execution_count": null,
   "metadata": {
    "collapsed": false
   },
   "outputs": [],
   "source": [
    "plt.figure()\n",
    "plt.plot(model.components_.T)\n",
    "plt.show()"
   ]
  },
  {
   "cell_type": "code",
   "execution_count": null,
   "metadata": {
    "collapsed": false
   },
   "outputs": [],
   "source": [
    "model = NMF(n_components=3, init='random', random_state=0)\n",
    "model.fit(Xpos)\n",
    "\n",
    "colors = ['red', 'blue', 'yellow']\n",
    "\n",
    "X_nmf = model.transform(Xpos)\n",
    "df = pd.DataFrame(X_nmf, columns=['1','2', '3'])\n",
    "df['y'] = pd.Series(y).astype(\"category\")\n",
    "#scatter_matrix_seaborn(df, y='y', size=3)\n",
    "\n",
    "from pandas.tools.plotting import scatter_matrix\n",
    "col = [colors[x] for x in df['y']]\n",
    "scatter_matrix(df, c=col)#, alpha=0.2, figsize=(6, 6), diagonal='kde')\n",
    "\n",
    "\n",
    "print 'model.reconstruction_err_', model.reconstruction_err_\n",
    "#print 'model.components_', model.components_"
   ]
  },
  {
   "cell_type": "code",
   "execution_count": null,
   "metadata": {
    "collapsed": false
   },
   "outputs": [],
   "source": [
    "model.components_.shape"
   ]
  },
  {
   "cell_type": "code",
   "execution_count": null,
   "metadata": {
    "collapsed": false
   },
   "outputs": [],
   "source": [
    "plt.matshow(model.components_)"
   ]
  },
  {
   "cell_type": "code",
   "execution_count": null,
   "metadata": {
    "collapsed": false
   },
   "outputs": [],
   "source": [
    "model = NMF(n_components=4, init='random', random_state=0)\n",
    "model.fit(Xpos) \n",
    "X_nmf = model.transform(Xpos)\n",
    "df = pd.DataFrame(X_nmf, columns=['1','2', '3', '4'])\n",
    "df['y'] = pd.Series(y).astype(\"category\")\n",
    "\n",
    "from pandas.tools.plotting import scatter_matrix\n",
    "col = [colors[x] for x in df['y']]\n",
    "scatter_matrix(df, c=col)#, alpha=0.2, figsize=(6, 6), diagonal='kde')\n",
    "\n",
    "#scatter_matrix_seaborn(df, y='y', size=3)\n",
    "print 'model.reconstruction_err_', model.reconstruction_err_\n",
    "#print 'model.components_', model.components_"
   ]
  },
  {
   "cell_type": "code",
   "execution_count": null,
   "metadata": {
    "collapsed": false
   },
   "outputs": [],
   "source": [
    "err = []\n",
    "n_comps = range(1, 11)\n",
    "for n_comp in n_comps:\n",
    "    model = NMF(n_components=n_comp, init='random', random_state=0)\n",
    "    model.fit(Xpos) \n",
    "    err += [model.reconstruction_err_]\n",
    "plt.figure()\n",
    "plt.plot(n_comps, err)"
   ]
  },
  {
   "cell_type": "code",
   "execution_count": null,
   "metadata": {
    "collapsed": false
   },
   "outputs": [],
   "source": [
    "df"
   ]
  },
  {
   "cell_type": "code",
   "execution_count": null,
   "metadata": {
    "collapsed": false
   },
   "outputs": [],
   "source": [
    "p = bokeh_plot_cov(data_thr, x_name='5', y_name='0',\n",
    "                   pred_name='y',\n",
    "                   title=None,\n",
    "                   plot_width=900, plot_height=300)\n",
    "show(p)"
   ]
  }
 ],
 "metadata": {
  "kernelspec": {
   "display_name": "Python [Root]",
   "language": "python",
   "name": "Python [Root]"
  },
  "language_info": {
   "codemirror_mode": {
    "name": "ipython",
    "version": 2
   },
   "file_extension": ".py",
   "mimetype": "text/x-python",
   "name": "python",
   "nbconvert_exporter": "python",
   "pygments_lexer": "ipython2",
   "version": "2.7.12"
  }
 },
 "nbformat": 4,
 "nbformat_minor": 0
}
