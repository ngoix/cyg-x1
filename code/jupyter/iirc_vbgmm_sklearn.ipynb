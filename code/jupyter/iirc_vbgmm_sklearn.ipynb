{
 "cells": [
  {
   "cell_type": "code",
   "execution_count": 2,
   "metadata": {
    "collapsed": false
   },
   "outputs": [
    {
     "name": "stdout",
     "output_type": "stream",
     "text": [
      "NK [27.0, 9.0, 26.0, 6.0, 32.0, 10.0, 22.0, 29.0, 26.0, 23.0, 15.0, 35.0, 12.0, 1.0, 25.0, 23.0, 27.0, 7.0, 1.0, 4.0, 29.0, 38.0, 22.0, 8.0, 29.0, 41.0, 20.0, 50.0, 12.0, 30.0, 30.0, 36.0, 11.0, 12.0, 8.0, 9.0, 23.0, 36.0, 10.0, 39.0, 17.0, 2.0, 17.0, 17.0, 29.0, 30.0, 7.0, 36.0, 8.0, 18.0]\n",
      "-inf 435.928006154\n",
      "8.00270072432e-09 435.928006162\n",
      "NK [27.0, 9.0, 26.0, 6.0, 32.0, 10.0, 22.0, 29.0, 26.0, 23.0, 15.0, 35.0, 12.0, 1.0, 25.0, 23.0, 27.0, 7.0, 1.0, 4.0, 29.0, 38.0, 22.0, 8.0, 29.0, 41.0, 20.0, 50.0, 12.0, 30.0, 30.0, 36.0, 11.0, 12.0, 8.0, 9.0, 23.0, 36.0, 10.0, 39.0, 17.0, 2.0, 17.0, 17.0, 29.0, 30.0, 7.0, 36.0, 8.0, 18.0]\n",
      "-inf 435.928006154\n",
      "8.00270072432e-09 435.928006162\n",
      "NK [27.0, 9.0, 26.0, 6.0, 32.0, 10.0, 22.0, 29.0, 26.0, 23.0, 15.0, 35.0, 12.0, 1.0, 25.0, 23.0, 27.0, 7.0, 1.0, 4.0, 29.0, 38.0, 22.0, 8.0, 29.0, 41.0, 20.0, 50.0, 12.0, 30.0, 30.0, 36.0, 11.0, 12.0, 8.0, 9.0, 23.0, 36.0, 10.0, 39.0, 17.0, 2.0, 17.0, 17.0, 29.0, 30.0, 7.0, 36.0, 8.0, 18.0]\n",
      "-inf 435.928006154\n",
      "8.00270072432e-09 435.928006162\n",
      "NK [27.0, 9.0, 26.0, 6.0, 32.0, 10.0, 22.0, 29.0, 26.0, 23.0, 15.0, 35.0, 12.0, 1.0, 25.0, 23.0, 27.0, 7.0, 1.0, 4.0, 29.0, 38.0, 22.0, 8.0, 29.0, 41.0, 20.0, 50.0, 12.0, 30.0, 30.0, 36.0, 11.0, 12.0, 8.0, 9.0, 23.0, 36.0, 10.0, 39.0, 17.0, 2.0, 17.0, 17.0, 29.0, 30.0, 7.0, 36.0, 8.0, 18.0]\n",
      "-inf 435.928006154\n",
      "8.00270072432e-09 435.928006162\n",
      "NK [27.0, 9.0, 26.0, 6.0, 32.0, 10.0, 22.0, 29.0, 26.0, 23.0, 15.0, 35.0, 12.0, 1.0, 25.0, 23.0, 27.0, 7.0, 1.0, 4.0, 29.0, 38.0, 22.0, 8.0, 29.0, 41.0, 20.0, 50.0, 12.0, 30.0, 30.0, 36.0, 11.0, 12.0, 8.0, 9.0, 23.0, 36.0, 10.0, 39.0, 17.0, 2.0, 17.0, 17.0, 29.0, 30.0, 7.0, 36.0, 8.0, 18.0]\n",
      "-inf 435.928006154\n",
      "8.00270072432e-09 435.928006162\n",
      "NK [27.0, 9.0, 26.0, 6.0, 32.0, 10.0, 22.0, 29.0, 26.0, 23.0, 15.0, 35.0, 12.0, 1.0, 25.0, 23.0, 27.0, 7.0, 1.0, 4.0, 29.0, 38.0, 22.0, 8.0, 29.0, 41.0, 20.0, 50.0, 12.0, 30.0, 30.0, 36.0, 11.0, 12.0, 8.0, 9.0, 23.0, 36.0, 10.0, 39.0, 17.0, 2.0, 17.0, 17.0, 29.0, 30.0, 7.0, 36.0, 8.0, 18.0]\n",
      "-inf 435.928006154\n",
      "8.00270072432e-09 435.928006162\n",
      "NK [27.0, 9.0, 26.0, 6.0, 32.0, 10.0, 22.0, 29.0, 26.0, 23.0, 15.0, 35.0, 12.0, 1.0, 25.0, 23.0, 27.0, 7.0, 1.0, 4.0, 29.0, 38.0, 22.0, 8.0, 29.0, 41.0, 20.0, 50.0, 12.0, 30.0, 30.0, 36.0, 11.0, 12.0, 8.0, 9.0, 23.0, 36.0, 10.0, 39.0, 17.0, 2.0, 17.0, 17.0, 29.0, 30.0, 7.0, 36.0, 8.0, 18.0]\n",
      "-inf 435.928006154\n",
      "8.00270072432e-09 435.928006162\n",
      "NK [27.0, 9.0, 26.0, 6.0, 32.0, 10.0, 22.0, 29.0, 26.0, 23.0, 15.0, 35.0, 12.0, 1.0, 25.0, 23.0, 27.0, 7.0, 1.0, 4.0, 29.0, 38.0, 22.0, 8.0, 29.0, 41.0, 20.0, 50.0, 12.0, 30.0, 30.0, 36.0, 11.0, 12.0, 8.0, 9.0, 23.0, 36.0, 10.0, 39.0, 17.0, 2.0, 17.0, 17.0, 29.0, 30.0, 7.0, 36.0, 8.0, 18.0]\n",
      "-inf 435.928006154\n",
      "8.00270072432e-09 435.928006162\n",
      "NK [27.0, 9.0, 26.0, 6.0, 32.0, 10.0, 22.0, 29.0, 26.0, 23.0, 15.0, 35.0, 12.0, 1.0, 25.0, 23.0, 27.0, 7.0, 1.0, 4.0, 29.0, 38.0, 22.0, 8.0, 29.0, 41.0, 20.0, 50.0, 12.0, 30.0, 30.0, 36.0, 11.0, 12.0, 8.0, 9.0, 23.0, 36.0, 10.0, 39.0, 17.0, 2.0, 17.0, 17.0, 29.0, 30.0, 7.0, 36.0, 8.0, 18.0]\n",
      "-inf 435.928006154\n",
      "8.00270072432e-09 435.928006162\n",
      "NK [27.0, 9.0, 26.0, 6.0, 32.0, 10.0, 22.0, 29.0, 26.0, 23.0, 15.0, 35.0, 12.0, 1.0, 25.0, 23.0, 27.0, 7.0, 1.0, 4.0, 29.0, 38.0, 22.0, 8.0, 29.0, 41.0, 20.0, 50.0, 12.0, 30.0, 30.0, 36.0, 11.0, 12.0, 8.0, 9.0, 23.0, 36.0, 10.0, 39.0, 17.0, 2.0, 17.0, 17.0, 29.0, 30.0, 7.0, 36.0, 8.0, 18.0]\n",
      "-inf 435.928006154\n",
      "8.00270072432e-09 435.928006162\n",
      "[27  9 26  6 32 10 22 29 26 23 15 35 12  1 25 23 27  7  1  4 29 38 22  8 29\n",
      " 41 20 50 12 30 30 36 11 12  8  9 23 36 10 39 17  2 17 17 29 30  7 36  8 18]\n",
      "50\n",
      "[ 0.02611213  0.00870406  0.02514507  0.00580235  0.03095     0.00967118\n",
      "  0.0212766   0.02804678  0.02514507  0.02224371  0.01450677  0.03384914\n",
      "  0.01160542  0.00096712  0.02417795  0.0222437   0.02611195  0.00676983\n",
      "  0.00096712  0.00386847  0.0280442   0.03675048  0.0212766   0.00773694\n",
      "  0.02804642  0.03965213  0.01934236  0.04835798  0.01160542  0.02901354\n",
      "  0.02901354  0.03481675  0.0106383   0.01160542  0.00773694  0.00870406\n",
      "  0.02224364  0.03481624  0.00967118  0.0377176   0.01644101  0.00193424\n",
      "  0.01644101  0.01644101  0.02804641  0.02901354  0.00676983  0.03481426\n",
      "  0.00773694  0.01740762]\n"
     ]
    }
   ],
   "source": [
    "from visualization_fct import *\n",
    "from sklearn.mixture import BayesianGaussianMixture\n",
    "\n",
    "# from bokeh.plotting import output_file, show, save\n",
    "# from bokeh.mpl import to_bokeh\n",
    "\n",
    "from bokeh.resources import CDN\n",
    "from bokeh.embed import file_html\n",
    "\n",
    "import matplotlib.pyplot as plt  # , mpld3\n",
    "import pyfits\n",
    "\n",
    "\n",
    "# for now, no ratio in data (no rates A, B or C in this dataset)\n",
    "\n",
    "only_flux = False\n",
    "scale_data = True\n",
    "\n",
    "hdulist = pyfits.open('../iirc_data/all_data_for_ml.fits')\n",
    "data = hdulist[1].data\n",
    "\n",
    "#data=data[500:]\n",
    "\n",
    "X_flux, X, data_thr, data_fr_en = get_iirc_data(\n",
    "    data, only_flux=only_flux, scale_data=scale_data, thresholded=True)[:4]\n",
    "\n",
    "# VBGMM with 3 components: \n",
    "#np.random.seed(0)\n",
    "\n",
    "XX = X[78:]\n",
    "\n",
    "gmm = BayesianGaussianMixture(n_components=50, alpha_init=0.0000001, random_state=0, n_init=10).fit(XX)\n",
    "preds = gmm.predict(XX)\n",
    "probs = gmm.predict_proba(XX)\n",
    "\n",
    "data_thr['preds'] = pd.Series(preds).astype(\"category\")\n",
    "\n",
    "color_key = [\"red\", \"yellow\", \"blue\", \"grey\", \"black\", \"purple\", \"pink\",\n",
    "             \"brown\", \"green\", \"orange\"] * 2  # Spectral9\n",
    "#color_key = color_key[:len(set(preds))+1]\n",
    "\n",
    "means = gmm.means_\n",
    "\n",
    "print(np.bincount(preds))\n",
    "print len(np.bincount(preds))\n",
    "print(gmm.weights_)"
   ]
  },
  {
   "cell_type": "code",
   "execution_count": null,
   "metadata": {
    "collapsed": false
   },
   "outputs": [],
   "source": [
    "from bokeh.plotting import figure, show\n",
    "from bokeh.io import output_notebook\n",
    "output_notebook()\n",
    "\n",
    "from sklearn.decomposition import PCA\n",
    "pca = PCA(n_components=3)\n",
    "X_pca = pca.fit(X).transform(X)"
   ]
  },
  {
   "cell_type": "code",
   "execution_count": null,
   "metadata": {
    "collapsed": false,
    "scrolled": true
   },
   "outputs": [],
   "source": [
    "data_thr['pca1'] = X_pca[:, 0]\n",
    "data_thr['pca2'] = X_pca[:, 1]\n",
    "data_thr['pca3'] = X_pca[:, 2]\n",
    "\n",
    "means =  gmm.means_\n",
    "covs = gmm.covariances_\n",
    "print 'set(preds)=', set(preds)\n",
    "print 'gmm.weights_=', gmm.weights_\n",
    "\n",
    "#data5 = pd.DataFrame({name: data_thr[name] for name in ['0', '20', '40', '70', 'preds']})\n",
    "data5 = pd.DataFrame({name: data_thr[name] for name in ['pca1', 'pca2', 'pca3', 'preds']})\n",
    "\n",
    "from sklearn.decomposition import PCA\n",
    "pca = PCA(n_components=3)\n",
    "X_pca = pca.fit(X).transform(X)\n",
    "\n",
    "covs_ = np.array([pca.transform(pca.transform(covs[j].T).T) for j in range(covs.shape[0])])\n",
    "means_ = np.array([pca.transform(means[j].reshape(1,-1)).T for j in range(means.shape[0])])\n",
    "\n",
    "p = scatter_matrix(data5, covs=covs_, means=means_, color_key=color_key, covs_indices=['pca1', 'pca2', 'pca3'],\n",
    "                   plot_width=200, plot_height=200, spread=True, datashader=False)\n",
    "show(p)"
   ]
  },
  {
   "cell_type": "code",
   "execution_count": null,
   "metadata": {
    "collapsed": false
   },
   "outputs": [],
   "source": [
    "%matplotlib inline\n",
    "plt.figure()\n",
    "plt.plot(pca.components_.T)\n",
    "plt.show()"
   ]
  },
  {
   "cell_type": "code",
   "execution_count": null,
   "metadata": {
    "collapsed": false
   },
   "outputs": [],
   "source": [
    "x = 5\n",
    "y = 0\n",
    "covs_xy = [covs[j][[x, y]][:, [x, y]] for j in range(len(covs))]\n",
    "means_xy = [means[j][[x, y]] for j in range(len(covs))]\n",
    "\n",
    "p = bokeh_plot_cov(data_thr, covs=covs_xy, means=means_xy,\n",
    "                   x_name='5',\n",
    "                   y_name='0',\n",
    "                   pred_name='preds', title=None,  # try preds -> y\n",
    "                   plot_width=900, plot_height=300)\n",
    "show(p)"
   ]
  },
  {
   "cell_type": "code",
   "execution_count": null,
   "metadata": {
    "collapsed": true
   },
   "outputs": [],
   "source": []
  }
 ],
 "metadata": {
  "kernelspec": {
   "display_name": "Python [Root]",
   "language": "python",
   "name": "Python [Root]"
  },
  "language_info": {
   "codemirror_mode": {
    "name": "ipython",
    "version": 2
   },
   "file_extension": ".py",
   "mimetype": "text/x-python",
   "name": "python",
   "nbconvert_exporter": "python",
   "pygments_lexer": "ipython2",
   "version": "2.7.12"
  }
 },
 "nbformat": 4,
 "nbformat_minor": 0
}
