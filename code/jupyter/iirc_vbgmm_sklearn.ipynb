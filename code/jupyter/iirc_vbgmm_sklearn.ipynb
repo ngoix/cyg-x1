{
 "cells": [
  {
   "cell_type": "code",
   "execution_count": null,
   "metadata": {
    "collapsed": false
   },
   "outputs": [],
   "source": [
    "from visualization_fct import *\n",
    "from sklearn.mixture import BayesianGaussianMixture\n",
    "\n",
    "# from bokeh.plotting import output_file, show, save\n",
    "# from bokeh.mpl import to_bokeh\n",
    "\n",
    "from bokeh.resources import CDN\n",
    "from bokeh.embed import file_html\n",
    "\n",
    "import matplotlib.pyplot as plt  # , mpld3\n",
    "import pyfits\n",
    "\n",
    "\n",
    "# for now, no ratio in data (no rates A, B or C in this dataset)\n",
    "\n",
    "only_flux = True\n",
    "scale_data = True\n",
    "\n",
    "hdulist = pyfits.open('../iirc_data/all_data_for_ml.fits')\n",
    "data = hdulist[1].data\n",
    "\n",
    "X_flux, X, data_thr, data_fr_en = get_iirc_data(\n",
    "    data, only_flux=only_flux, scale_data=scale_data, thresholded=True)[:4]\n",
    "\n",
    "# VBGMM with 3 components: \n",
    "#np.random.seed(0)\n",
    "\n",
    "gmm = BayesianGaussianMixture(n_components=5, random_state=0, alpha_init=0.1, n_init=10).fit(X)\n",
    "preds = gmm.predict(X)\n",
    "probs = gmm.predict_proba(X)\n",
    "\n",
    "data_thr['preds'] = pd.Series(preds).astype(\"category\")\n",
    "\n",
    "color_key = [\"red\", \"yellow\", \"blue\", \"grey\", \"black\", \"purple\", \"pink\",\n",
    "             \"brown\", \"green\", \"orange\"] * 2  # Spectral9\n",
    "#color_key = color_key[:len(set(preds))+1]\n",
    "\n",
    "means = gmm.means_\n",
    "\n",
    "print(np.bincount(preds))\n",
    "print len(np.bincount(preds))\n",
    "print(gmm.weights_)"
   ]
  },
  {
   "cell_type": "code",
   "execution_count": null,
   "metadata": {
    "collapsed": false
   },
   "outputs": [],
   "source": [
    "from bokeh.plotting import figure, show\n",
    "from bokeh.io import output_notebook\n",
    "output_notebook()\n",
    "\n",
    "from sklearn.decomposition import PCA\n",
    "pca = PCA(n_components=3)\n",
    "X_pca = pca.fit(X).transform(X)"
   ]
  },
  {
   "cell_type": "code",
   "execution_count": null,
   "metadata": {
    "collapsed": false
   },
   "outputs": [],
   "source": [
    "data_thr['pca1'] = X_pca[:, 0]\n",
    "data_thr['pca2'] = X_pca[:, 1]\n",
    "data_thr['pca3'] = X_pca[:, 2]\n",
    "\n",
    "means =  gmm.means_\n",
    "covs = gmm.covariances_\n",
    "print 'set(preds)=', set(preds)\n",
    "print 'gmm.weights_=', gmm.weights_\n",
    "\n",
    "#data5 = pd.DataFrame({name: data_thr[name] for name in ['0', '20', '40', '70', 'preds']})\n",
    "data5 = pd.DataFrame({name: data_thr[name] for name in ['pca1', 'pca2', 'pca3', 'preds']})\n",
    "\n",
    "covs_ = np.array([covs[j][[0, 20, 40, 70],:][:, [0, 20, 40, 70]] for j in range(covs.shape[0])])\n",
    "means_ = np.array([means[j][[0, 20, 40, 70]] for j in range(means.shape[0])])\n",
    "p = scatter_matrix(data5, covs=covs_, means=means_, color_key=color_key, covs_indices=['pca1', 'pca2', 'pca3'],\n",
    "                   plot_width=200, plot_height=200, spread=True, datashader=False)\n",
    "show(p)"
   ]
  },
  {
   "cell_type": "code",
   "execution_count": null,
   "metadata": {
    "collapsed": true
   },
   "outputs": [],
   "source": [
    "plt.plot(pca.components_.T)\n",
    "plt.show()"
   ]
  },
  {
   "cell_type": "code",
   "execution_count": null,
   "metadata": {
    "collapsed": false
   },
   "outputs": [],
   "source": [
    "x = 5\n",
    "y = 0\n",
    "covs_xy = [covs[j][[x, y]][:, [x, y]] for j in range(len(covs))]\n",
    "means_xy = [means[j][[x, y]] for j in range(len(covs))]\n",
    "\n",
    "p = bokeh_plot_cov(data_thr, covs=covs_xy, means=means_xy,\n",
    "                   x_name='5',\n",
    "                   y_name='0',\n",
    "                   pred_name='preds', title=None,  # try preds -> y\n",
    "                   plot_width=900, plot_height=300)\n",
    "show(p)"
   ]
  }
 ],
 "metadata": {
  "kernelspec": {
   "display_name": "Python [Root]",
   "language": "python",
   "name": "Python [Root]"
  },
  "language_info": {
   "codemirror_mode": {
    "name": "ipython",
    "version": 2
   },
   "file_extension": ".py",
   "mimetype": "text/x-python",
   "name": "python",
   "nbconvert_exporter": "python",
   "pygments_lexer": "ipython2",
   "version": "2.7.12"
  }
 },
 "nbformat": 4,
 "nbformat_minor": 0
}
